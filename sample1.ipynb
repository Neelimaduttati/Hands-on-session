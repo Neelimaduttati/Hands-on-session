{
 "cells": [
  {
   "cell_type": "code",
   "execution_count": 6,
   "id": "627de77b",
   "metadata": {},
   "outputs": [
    {
     "name": "stdout",
     "output_type": "stream",
     "text": [
      "   DAYS_BIRTH  AGE_YEARS\n",
      "0       -9461         25\n",
      "1      -16765         45\n",
      "2      -19046         52\n",
      "3      -19005         52\n",
      "4      -19932         54\n"
     ]
    }
   ],
   "source": [
    "import pandas as pd\n",
    "\n",
    "def load_data(filepath):\n",
    "    return pd.read_csv(filepath)\n",
    "\n",
    "def preprocessing(df):\n",
    "    df['AGE_YEARS'] = (df['DAYS_BIRTH'] / -365.25).astype(int)\n",
    "    return df\n",
    "\n",
    "# Run the functions\n",
    "df = load_data(\"application_train.csv\")   # make sure this CSV is in the same folder\n",
    "df = preprocessing(df)\n",
    "\n",
    "# Show first 5 rows\n",
    "print(df[['DAYS_BIRTH', 'AGE_YEARS']].head())"
   ]
  },
  {
   "cell_type": "code",
   "execution_count": 7,
   "id": "3d6629ce",
   "metadata": {},
   "outputs": [
    {
     "name": "stdout",
     "output_type": "stream",
     "text": [
      "   DAYS_EMPLOYED  EMPLOYMENT_YEARS\n",
      "0           -637          1.744011\n",
      "1          -1188          3.252567\n",
      "2           -225          0.616016\n",
      "3          -3039          8.320329\n",
      "4          -3038          8.317591\n"
     ]
    }
   ],
   "source": [
    "# Convert days employed into years of employment\n",
    "df['EMPLOYMENT_YEARS'] = (-df['DAYS_EMPLOYED'] / 365.25).clip(lower=0)\n",
    "\n",
    "print(df[['DAYS_EMPLOYED', 'EMPLOYMENT_YEARS']].head())"
   ]
  },
  {
   "cell_type": "code",
   "execution_count": 8,
   "id": "d7ec4e4a",
   "metadata": {},
   "outputs": [
    {
     "name": "stdout",
     "output_type": "stream",
     "text": [
      " Missing Value Percentage by Column:\n",
      "\n",
      "COMMONAREA_AVG              69.872297\n",
      "COMMONAREA_MODE             69.872297\n",
      "COMMONAREA_MEDI             69.872297\n",
      "NONLIVINGAPARTMENTS_AVG     69.432963\n",
      "NONLIVINGAPARTMENTS_MODE    69.432963\n",
      "                              ...    \n",
      "FLAG_DOCUMENT_18             0.000000\n",
      "FLAG_DOCUMENT_17             0.000000\n",
      "FLAG_DOCUMENT_16             0.000000\n",
      "AGE_YEARS                    0.000000\n",
      "EMPLOYMENT_YEARS             0.000000\n",
      "Length: 124, dtype: float64\n",
      "\n",
      " Dropped columns with >60% missing values: ['OWN_CAR_AGE', 'YEARS_BUILD_AVG', 'COMMONAREA_AVG', 'FLOORSMIN_AVG', 'LIVINGAPARTMENTS_AVG', 'NONLIVINGAPARTMENTS_AVG', 'YEARS_BUILD_MODE', 'COMMONAREA_MODE', 'FLOORSMIN_MODE', 'LIVINGAPARTMENTS_MODE', 'NONLIVINGAPARTMENTS_MODE', 'YEARS_BUILD_MEDI', 'COMMONAREA_MEDI', 'FLOORSMIN_MEDI', 'LIVINGAPARTMENTS_MEDI', 'NONLIVINGAPARTMENTS_MEDI', 'FONDKAPREMONT_MODE']\n"
     ]
    },
    {
     "name": "stderr",
     "output_type": "stream",
     "text": [
      "C:\\Users\\dell\\AppData\\Local\\Temp\\ipykernel_13516\\2989560477.py:15: FutureWarning: A value is trying to be set on a copy of a DataFrame or Series through chained assignment using an inplace method.\n",
      "The behavior will change in pandas 3.0. This inplace method will never work because the intermediate object on which we are setting values always behaves as a copy.\n",
      "\n",
      "For example, when doing 'df[col].method(value, inplace=True)', try using 'df.method({col: value}, inplace=True)' or df[col] = df[col].method(value) instead, to perform the operation inplace on the original object.\n",
      "\n",
      "\n",
      "  df[col].fillna(median_val, inplace=True)\n",
      "C:\\Users\\dell\\AppData\\Local\\Temp\\ipykernel_13516\\2989560477.py:15: FutureWarning: A value is trying to be set on a copy of a DataFrame or Series through chained assignment using an inplace method.\n",
      "The behavior will change in pandas 3.0. This inplace method will never work because the intermediate object on which we are setting values always behaves as a copy.\n",
      "\n",
      "For example, when doing 'df[col].method(value, inplace=True)', try using 'df.method({col: value}, inplace=True)' or df[col] = df[col].method(value) instead, to perform the operation inplace on the original object.\n",
      "\n",
      "\n",
      "  df[col].fillna(median_val, inplace=True)\n",
      "C:\\Users\\dell\\AppData\\Local\\Temp\\ipykernel_13516\\2989560477.py:12: FutureWarning: A value is trying to be set on a copy of a DataFrame or Series through chained assignment using an inplace method.\n",
      "The behavior will change in pandas 3.0. This inplace method will never work because the intermediate object on which we are setting values always behaves as a copy.\n",
      "\n",
      "For example, when doing 'df[col].method(value, inplace=True)', try using 'df.method({col: value}, inplace=True)' or df[col] = df[col].method(value) instead, to perform the operation inplace on the original object.\n",
      "\n",
      "\n",
      "  df[col].fillna(most_freq, inplace=True)\n",
      "C:\\Users\\dell\\AppData\\Local\\Temp\\ipykernel_13516\\2989560477.py:15: FutureWarning: A value is trying to be set on a copy of a DataFrame or Series through chained assignment using an inplace method.\n",
      "The behavior will change in pandas 3.0. This inplace method will never work because the intermediate object on which we are setting values always behaves as a copy.\n",
      "\n",
      "For example, when doing 'df[col].method(value, inplace=True)', try using 'df.method({col: value}, inplace=True)' or df[col] = df[col].method(value) instead, to perform the operation inplace on the original object.\n",
      "\n",
      "\n",
      "  df[col].fillna(median_val, inplace=True)\n",
      "C:\\Users\\dell\\AppData\\Local\\Temp\\ipykernel_13516\\2989560477.py:15: FutureWarning: A value is trying to be set on a copy of a DataFrame or Series through chained assignment using an inplace method.\n",
      "The behavior will change in pandas 3.0. This inplace method will never work because the intermediate object on which we are setting values always behaves as a copy.\n",
      "\n",
      "For example, when doing 'df[col].method(value, inplace=True)', try using 'df.method({col: value}, inplace=True)' or df[col] = df[col].method(value) instead, to perform the operation inplace on the original object.\n",
      "\n",
      "\n",
      "  df[col].fillna(median_val, inplace=True)\n",
      "C:\\Users\\dell\\AppData\\Local\\Temp\\ipykernel_13516\\2989560477.py:15: FutureWarning: A value is trying to be set on a copy of a DataFrame or Series through chained assignment using an inplace method.\n",
      "The behavior will change in pandas 3.0. This inplace method will never work because the intermediate object on which we are setting values always behaves as a copy.\n",
      "\n",
      "For example, when doing 'df[col].method(value, inplace=True)', try using 'df.method({col: value}, inplace=True)' or df[col] = df[col].method(value) instead, to perform the operation inplace on the original object.\n",
      "\n",
      "\n",
      "  df[col].fillna(median_val, inplace=True)\n",
      "C:\\Users\\dell\\AppData\\Local\\Temp\\ipykernel_13516\\2989560477.py:15: FutureWarning: A value is trying to be set on a copy of a DataFrame or Series through chained assignment using an inplace method.\n",
      "The behavior will change in pandas 3.0. This inplace method will never work because the intermediate object on which we are setting values always behaves as a copy.\n",
      "\n",
      "For example, when doing 'df[col].method(value, inplace=True)', try using 'df.method({col: value}, inplace=True)' or df[col] = df[col].method(value) instead, to perform the operation inplace on the original object.\n",
      "\n",
      "\n",
      "  df[col].fillna(median_val, inplace=True)\n",
      "C:\\Users\\dell\\AppData\\Local\\Temp\\ipykernel_13516\\2989560477.py:15: FutureWarning: A value is trying to be set on a copy of a DataFrame or Series through chained assignment using an inplace method.\n",
      "The behavior will change in pandas 3.0. This inplace method will never work because the intermediate object on which we are setting values always behaves as a copy.\n",
      "\n",
      "For example, when doing 'df[col].method(value, inplace=True)', try using 'df.method({col: value}, inplace=True)' or df[col] = df[col].method(value) instead, to perform the operation inplace on the original object.\n",
      "\n",
      "\n",
      "  df[col].fillna(median_val, inplace=True)\n",
      "C:\\Users\\dell\\AppData\\Local\\Temp\\ipykernel_13516\\2989560477.py:15: FutureWarning: A value is trying to be set on a copy of a DataFrame or Series through chained assignment using an inplace method.\n",
      "The behavior will change in pandas 3.0. This inplace method will never work because the intermediate object on which we are setting values always behaves as a copy.\n",
      "\n",
      "For example, when doing 'df[col].method(value, inplace=True)', try using 'df.method({col: value}, inplace=True)' or df[col] = df[col].method(value) instead, to perform the operation inplace on the original object.\n",
      "\n",
      "\n",
      "  df[col].fillna(median_val, inplace=True)\n",
      "C:\\Users\\dell\\AppData\\Local\\Temp\\ipykernel_13516\\2989560477.py:15: FutureWarning: A value is trying to be set on a copy of a DataFrame or Series through chained assignment using an inplace method.\n",
      "The behavior will change in pandas 3.0. This inplace method will never work because the intermediate object on which we are setting values always behaves as a copy.\n",
      "\n",
      "For example, when doing 'df[col].method(value, inplace=True)', try using 'df.method({col: value}, inplace=True)' or df[col] = df[col].method(value) instead, to perform the operation inplace on the original object.\n",
      "\n",
      "\n",
      "  df[col].fillna(median_val, inplace=True)\n",
      "C:\\Users\\dell\\AppData\\Local\\Temp\\ipykernel_13516\\2989560477.py:15: FutureWarning: A value is trying to be set on a copy of a DataFrame or Series through chained assignment using an inplace method.\n",
      "The behavior will change in pandas 3.0. This inplace method will never work because the intermediate object on which we are setting values always behaves as a copy.\n",
      "\n",
      "For example, when doing 'df[col].method(value, inplace=True)', try using 'df.method({col: value}, inplace=True)' or df[col] = df[col].method(value) instead, to perform the operation inplace on the original object.\n",
      "\n",
      "\n",
      "  df[col].fillna(median_val, inplace=True)\n",
      "C:\\Users\\dell\\AppData\\Local\\Temp\\ipykernel_13516\\2989560477.py:15: FutureWarning: A value is trying to be set on a copy of a DataFrame or Series through chained assignment using an inplace method.\n",
      "The behavior will change in pandas 3.0. This inplace method will never work because the intermediate object on which we are setting values always behaves as a copy.\n",
      "\n",
      "For example, when doing 'df[col].method(value, inplace=True)', try using 'df.method({col: value}, inplace=True)' or df[col] = df[col].method(value) instead, to perform the operation inplace on the original object.\n",
      "\n",
      "\n",
      "  df[col].fillna(median_val, inplace=True)\n",
      "C:\\Users\\dell\\AppData\\Local\\Temp\\ipykernel_13516\\2989560477.py:15: FutureWarning: A value is trying to be set on a copy of a DataFrame or Series through chained assignment using an inplace method.\n",
      "The behavior will change in pandas 3.0. This inplace method will never work because the intermediate object on which we are setting values always behaves as a copy.\n",
      "\n",
      "For example, when doing 'df[col].method(value, inplace=True)', try using 'df.method({col: value}, inplace=True)' or df[col] = df[col].method(value) instead, to perform the operation inplace on the original object.\n",
      "\n",
      "\n",
      "  df[col].fillna(median_val, inplace=True)\n",
      "C:\\Users\\dell\\AppData\\Local\\Temp\\ipykernel_13516\\2989560477.py:15: FutureWarning: A value is trying to be set on a copy of a DataFrame or Series through chained assignment using an inplace method.\n",
      "The behavior will change in pandas 3.0. This inplace method will never work because the intermediate object on which we are setting values always behaves as a copy.\n",
      "\n",
      "For example, when doing 'df[col].method(value, inplace=True)', try using 'df.method({col: value}, inplace=True)' or df[col] = df[col].method(value) instead, to perform the operation inplace on the original object.\n",
      "\n",
      "\n",
      "  df[col].fillna(median_val, inplace=True)\n",
      "C:\\Users\\dell\\AppData\\Local\\Temp\\ipykernel_13516\\2989560477.py:15: FutureWarning: A value is trying to be set on a copy of a DataFrame or Series through chained assignment using an inplace method.\n",
      "The behavior will change in pandas 3.0. This inplace method will never work because the intermediate object on which we are setting values always behaves as a copy.\n",
      "\n",
      "For example, when doing 'df[col].method(value, inplace=True)', try using 'df.method({col: value}, inplace=True)' or df[col] = df[col].method(value) instead, to perform the operation inplace on the original object.\n",
      "\n",
      "\n",
      "  df[col].fillna(median_val, inplace=True)\n",
      "C:\\Users\\dell\\AppData\\Local\\Temp\\ipykernel_13516\\2989560477.py:15: FutureWarning: A value is trying to be set on a copy of a DataFrame or Series through chained assignment using an inplace method.\n",
      "The behavior will change in pandas 3.0. This inplace method will never work because the intermediate object on which we are setting values always behaves as a copy.\n",
      "\n",
      "For example, when doing 'df[col].method(value, inplace=True)', try using 'df.method({col: value}, inplace=True)' or df[col] = df[col].method(value) instead, to perform the operation inplace on the original object.\n",
      "\n",
      "\n",
      "  df[col].fillna(median_val, inplace=True)\n",
      "C:\\Users\\dell\\AppData\\Local\\Temp\\ipykernel_13516\\2989560477.py:15: FutureWarning: A value is trying to be set on a copy of a DataFrame or Series through chained assignment using an inplace method.\n",
      "The behavior will change in pandas 3.0. This inplace method will never work because the intermediate object on which we are setting values always behaves as a copy.\n",
      "\n",
      "For example, when doing 'df[col].method(value, inplace=True)', try using 'df.method({col: value}, inplace=True)' or df[col] = df[col].method(value) instead, to perform the operation inplace on the original object.\n",
      "\n",
      "\n",
      "  df[col].fillna(median_val, inplace=True)\n",
      "C:\\Users\\dell\\AppData\\Local\\Temp\\ipykernel_13516\\2989560477.py:15: FutureWarning: A value is trying to be set on a copy of a DataFrame or Series through chained assignment using an inplace method.\n",
      "The behavior will change in pandas 3.0. This inplace method will never work because the intermediate object on which we are setting values always behaves as a copy.\n",
      "\n",
      "For example, when doing 'df[col].method(value, inplace=True)', try using 'df.method({col: value}, inplace=True)' or df[col] = df[col].method(value) instead, to perform the operation inplace on the original object.\n",
      "\n",
      "\n",
      "  df[col].fillna(median_val, inplace=True)\n",
      "C:\\Users\\dell\\AppData\\Local\\Temp\\ipykernel_13516\\2989560477.py:15: FutureWarning: A value is trying to be set on a copy of a DataFrame or Series through chained assignment using an inplace method.\n",
      "The behavior will change in pandas 3.0. This inplace method will never work because the intermediate object on which we are setting values always behaves as a copy.\n",
      "\n",
      "For example, when doing 'df[col].method(value, inplace=True)', try using 'df.method({col: value}, inplace=True)' or df[col] = df[col].method(value) instead, to perform the operation inplace on the original object.\n",
      "\n",
      "\n",
      "  df[col].fillna(median_val, inplace=True)\n",
      "C:\\Users\\dell\\AppData\\Local\\Temp\\ipykernel_13516\\2989560477.py:15: FutureWarning: A value is trying to be set on a copy of a DataFrame or Series through chained assignment using an inplace method.\n",
      "The behavior will change in pandas 3.0. This inplace method will never work because the intermediate object on which we are setting values always behaves as a copy.\n",
      "\n",
      "For example, when doing 'df[col].method(value, inplace=True)', try using 'df.method({col: value}, inplace=True)' or df[col] = df[col].method(value) instead, to perform the operation inplace on the original object.\n",
      "\n",
      "\n",
      "  df[col].fillna(median_val, inplace=True)\n",
      "C:\\Users\\dell\\AppData\\Local\\Temp\\ipykernel_13516\\2989560477.py:15: FutureWarning: A value is trying to be set on a copy of a DataFrame or Series through chained assignment using an inplace method.\n",
      "The behavior will change in pandas 3.0. This inplace method will never work because the intermediate object on which we are setting values always behaves as a copy.\n",
      "\n",
      "For example, when doing 'df[col].method(value, inplace=True)', try using 'df.method({col: value}, inplace=True)' or df[col] = df[col].method(value) instead, to perform the operation inplace on the original object.\n",
      "\n",
      "\n",
      "  df[col].fillna(median_val, inplace=True)\n",
      "C:\\Users\\dell\\AppData\\Local\\Temp\\ipykernel_13516\\2989560477.py:15: FutureWarning: A value is trying to be set on a copy of a DataFrame or Series through chained assignment using an inplace method.\n",
      "The behavior will change in pandas 3.0. This inplace method will never work because the intermediate object on which we are setting values always behaves as a copy.\n",
      "\n",
      "For example, when doing 'df[col].method(value, inplace=True)', try using 'df.method({col: value}, inplace=True)' or df[col] = df[col].method(value) instead, to perform the operation inplace on the original object.\n",
      "\n",
      "\n",
      "  df[col].fillna(median_val, inplace=True)\n",
      "C:\\Users\\dell\\AppData\\Local\\Temp\\ipykernel_13516\\2989560477.py:15: FutureWarning: A value is trying to be set on a copy of a DataFrame or Series through chained assignment using an inplace method.\n",
      "The behavior will change in pandas 3.0. This inplace method will never work because the intermediate object on which we are setting values always behaves as a copy.\n",
      "\n",
      "For example, when doing 'df[col].method(value, inplace=True)', try using 'df.method({col: value}, inplace=True)' or df[col] = df[col].method(value) instead, to perform the operation inplace on the original object.\n",
      "\n",
      "\n",
      "  df[col].fillna(median_val, inplace=True)\n",
      "C:\\Users\\dell\\AppData\\Local\\Temp\\ipykernel_13516\\2989560477.py:15: FutureWarning: A value is trying to be set on a copy of a DataFrame or Series through chained assignment using an inplace method.\n",
      "The behavior will change in pandas 3.0. This inplace method will never work because the intermediate object on which we are setting values always behaves as a copy.\n",
      "\n",
      "For example, when doing 'df[col].method(value, inplace=True)', try using 'df.method({col: value}, inplace=True)' or df[col] = df[col].method(value) instead, to perform the operation inplace on the original object.\n",
      "\n",
      "\n",
      "  df[col].fillna(median_val, inplace=True)\n",
      "C:\\Users\\dell\\AppData\\Local\\Temp\\ipykernel_13516\\2989560477.py:15: FutureWarning: A value is trying to be set on a copy of a DataFrame or Series through chained assignment using an inplace method.\n",
      "The behavior will change in pandas 3.0. This inplace method will never work because the intermediate object on which we are setting values always behaves as a copy.\n",
      "\n",
      "For example, when doing 'df[col].method(value, inplace=True)', try using 'df.method({col: value}, inplace=True)' or df[col] = df[col].method(value) instead, to perform the operation inplace on the original object.\n",
      "\n",
      "\n",
      "  df[col].fillna(median_val, inplace=True)\n",
      "C:\\Users\\dell\\AppData\\Local\\Temp\\ipykernel_13516\\2989560477.py:15: FutureWarning: A value is trying to be set on a copy of a DataFrame or Series through chained assignment using an inplace method.\n",
      "The behavior will change in pandas 3.0. This inplace method will never work because the intermediate object on which we are setting values always behaves as a copy.\n",
      "\n",
      "For example, when doing 'df[col].method(value, inplace=True)', try using 'df.method({col: value}, inplace=True)' or df[col] = df[col].method(value) instead, to perform the operation inplace on the original object.\n",
      "\n",
      "\n",
      "  df[col].fillna(median_val, inplace=True)\n",
      "C:\\Users\\dell\\AppData\\Local\\Temp\\ipykernel_13516\\2989560477.py:15: FutureWarning: A value is trying to be set on a copy of a DataFrame or Series through chained assignment using an inplace method.\n",
      "The behavior will change in pandas 3.0. This inplace method will never work because the intermediate object on which we are setting values always behaves as a copy.\n",
      "\n",
      "For example, when doing 'df[col].method(value, inplace=True)', try using 'df.method({col: value}, inplace=True)' or df[col] = df[col].method(value) instead, to perform the operation inplace on the original object.\n",
      "\n",
      "\n",
      "  df[col].fillna(median_val, inplace=True)\n",
      "C:\\Users\\dell\\AppData\\Local\\Temp\\ipykernel_13516\\2989560477.py:15: FutureWarning: A value is trying to be set on a copy of a DataFrame or Series through chained assignment using an inplace method.\n",
      "The behavior will change in pandas 3.0. This inplace method will never work because the intermediate object on which we are setting values always behaves as a copy.\n",
      "\n",
      "For example, when doing 'df[col].method(value, inplace=True)', try using 'df.method({col: value}, inplace=True)' or df[col] = df[col].method(value) instead, to perform the operation inplace on the original object.\n",
      "\n",
      "\n",
      "  df[col].fillna(median_val, inplace=True)\n",
      "C:\\Users\\dell\\AppData\\Local\\Temp\\ipykernel_13516\\2989560477.py:15: FutureWarning: A value is trying to be set on a copy of a DataFrame or Series through chained assignment using an inplace method.\n",
      "The behavior will change in pandas 3.0. This inplace method will never work because the intermediate object on which we are setting values always behaves as a copy.\n",
      "\n",
      "For example, when doing 'df[col].method(value, inplace=True)', try using 'df.method({col: value}, inplace=True)' or df[col] = df[col].method(value) instead, to perform the operation inplace on the original object.\n",
      "\n",
      "\n",
      "  df[col].fillna(median_val, inplace=True)\n",
      "C:\\Users\\dell\\AppData\\Local\\Temp\\ipykernel_13516\\2989560477.py:15: FutureWarning: A value is trying to be set on a copy of a DataFrame or Series through chained assignment using an inplace method.\n",
      "The behavior will change in pandas 3.0. This inplace method will never work because the intermediate object on which we are setting values always behaves as a copy.\n",
      "\n",
      "For example, when doing 'df[col].method(value, inplace=True)', try using 'df.method({col: value}, inplace=True)' or df[col] = df[col].method(value) instead, to perform the operation inplace on the original object.\n",
      "\n",
      "\n",
      "  df[col].fillna(median_val, inplace=True)\n",
      "C:\\Users\\dell\\AppData\\Local\\Temp\\ipykernel_13516\\2989560477.py:15: FutureWarning: A value is trying to be set on a copy of a DataFrame or Series through chained assignment using an inplace method.\n",
      "The behavior will change in pandas 3.0. This inplace method will never work because the intermediate object on which we are setting values always behaves as a copy.\n",
      "\n",
      "For example, when doing 'df[col].method(value, inplace=True)', try using 'df.method({col: value}, inplace=True)' or df[col] = df[col].method(value) instead, to perform the operation inplace on the original object.\n",
      "\n",
      "\n",
      "  df[col].fillna(median_val, inplace=True)\n",
      "C:\\Users\\dell\\AppData\\Local\\Temp\\ipykernel_13516\\2989560477.py:15: FutureWarning: A value is trying to be set on a copy of a DataFrame or Series through chained assignment using an inplace method.\n",
      "The behavior will change in pandas 3.0. This inplace method will never work because the intermediate object on which we are setting values always behaves as a copy.\n",
      "\n",
      "For example, when doing 'df[col].method(value, inplace=True)', try using 'df.method({col: value}, inplace=True)' or df[col] = df[col].method(value) instead, to perform the operation inplace on the original object.\n",
      "\n",
      "\n",
      "  df[col].fillna(median_val, inplace=True)\n",
      "C:\\Users\\dell\\AppData\\Local\\Temp\\ipykernel_13516\\2989560477.py:15: FutureWarning: A value is trying to be set on a copy of a DataFrame or Series through chained assignment using an inplace method.\n",
      "The behavior will change in pandas 3.0. This inplace method will never work because the intermediate object on which we are setting values always behaves as a copy.\n",
      "\n",
      "For example, when doing 'df[col].method(value, inplace=True)', try using 'df.method({col: value}, inplace=True)' or df[col] = df[col].method(value) instead, to perform the operation inplace on the original object.\n",
      "\n",
      "\n",
      "  df[col].fillna(median_val, inplace=True)\n",
      "C:\\Users\\dell\\AppData\\Local\\Temp\\ipykernel_13516\\2989560477.py:15: FutureWarning: A value is trying to be set on a copy of a DataFrame or Series through chained assignment using an inplace method.\n",
      "The behavior will change in pandas 3.0. This inplace method will never work because the intermediate object on which we are setting values always behaves as a copy.\n",
      "\n",
      "For example, when doing 'df[col].method(value, inplace=True)', try using 'df.method({col: value}, inplace=True)' or df[col] = df[col].method(value) instead, to perform the operation inplace on the original object.\n",
      "\n",
      "\n",
      "  df[col].fillna(median_val, inplace=True)\n",
      "C:\\Users\\dell\\AppData\\Local\\Temp\\ipykernel_13516\\2989560477.py:12: FutureWarning: A value is trying to be set on a copy of a DataFrame or Series through chained assignment using an inplace method.\n",
      "The behavior will change in pandas 3.0. This inplace method will never work because the intermediate object on which we are setting values always behaves as a copy.\n",
      "\n",
      "For example, when doing 'df[col].method(value, inplace=True)', try using 'df.method({col: value}, inplace=True)' or df[col] = df[col].method(value) instead, to perform the operation inplace on the original object.\n",
      "\n",
      "\n",
      "  df[col].fillna(most_freq, inplace=True)\n",
      "C:\\Users\\dell\\AppData\\Local\\Temp\\ipykernel_13516\\2989560477.py:15: FutureWarning: A value is trying to be set on a copy of a DataFrame or Series through chained assignment using an inplace method.\n",
      "The behavior will change in pandas 3.0. This inplace method will never work because the intermediate object on which we are setting values always behaves as a copy.\n",
      "\n",
      "For example, when doing 'df[col].method(value, inplace=True)', try using 'df.method({col: value}, inplace=True)' or df[col] = df[col].method(value) instead, to perform the operation inplace on the original object.\n",
      "\n",
      "\n",
      "  df[col].fillna(median_val, inplace=True)\n",
      "C:\\Users\\dell\\AppData\\Local\\Temp\\ipykernel_13516\\2989560477.py:12: FutureWarning: A value is trying to be set on a copy of a DataFrame or Series through chained assignment using an inplace method.\n",
      "The behavior will change in pandas 3.0. This inplace method will never work because the intermediate object on which we are setting values always behaves as a copy.\n",
      "\n",
      "For example, when doing 'df[col].method(value, inplace=True)', try using 'df.method({col: value}, inplace=True)' or df[col] = df[col].method(value) instead, to perform the operation inplace on the original object.\n",
      "\n",
      "\n",
      "  df[col].fillna(most_freq, inplace=True)\n",
      "C:\\Users\\dell\\AppData\\Local\\Temp\\ipykernel_13516\\2989560477.py:15: FutureWarning: A value is trying to be set on a copy of a DataFrame or Series through chained assignment using an inplace method.\n",
      "The behavior will change in pandas 3.0. This inplace method will never work because the intermediate object on which we are setting values always behaves as a copy.\n",
      "\n",
      "For example, when doing 'df[col].method(value, inplace=True)', try using 'df.method({col: value}, inplace=True)' or df[col] = df[col].method(value) instead, to perform the operation inplace on the original object.\n",
      "\n",
      "\n",
      "  df[col].fillna(median_val, inplace=True)\n",
      "C:\\Users\\dell\\AppData\\Local\\Temp\\ipykernel_13516\\2989560477.py:15: FutureWarning: A value is trying to be set on a copy of a DataFrame or Series through chained assignment using an inplace method.\n",
      "The behavior will change in pandas 3.0. This inplace method will never work because the intermediate object on which we are setting values always behaves as a copy.\n",
      "\n",
      "For example, when doing 'df[col].method(value, inplace=True)', try using 'df.method({col: value}, inplace=True)' or df[col] = df[col].method(value) instead, to perform the operation inplace on the original object.\n",
      "\n",
      "\n",
      "  df[col].fillna(median_val, inplace=True)\n"
     ]
    },
    {
     "name": "stdout",
     "output_type": "stream",
     "text": [
      "\n",
      " Missing values handled successfully.\n"
     ]
    },
    {
     "name": "stderr",
     "output_type": "stream",
     "text": [
      "C:\\Users\\dell\\AppData\\Local\\Temp\\ipykernel_13516\\2989560477.py:15: FutureWarning: A value is trying to be set on a copy of a DataFrame or Series through chained assignment using an inplace method.\n",
      "The behavior will change in pandas 3.0. This inplace method will never work because the intermediate object on which we are setting values always behaves as a copy.\n",
      "\n",
      "For example, when doing 'df[col].method(value, inplace=True)', try using 'df.method({col: value}, inplace=True)' or df[col] = df[col].method(value) instead, to perform the operation inplace on the original object.\n",
      "\n",
      "\n",
      "  df[col].fillna(median_val, inplace=True)\n",
      "C:\\Users\\dell\\AppData\\Local\\Temp\\ipykernel_13516\\2989560477.py:15: FutureWarning: A value is trying to be set on a copy of a DataFrame or Series through chained assignment using an inplace method.\n",
      "The behavior will change in pandas 3.0. This inplace method will never work because the intermediate object on which we are setting values always behaves as a copy.\n",
      "\n",
      "For example, when doing 'df[col].method(value, inplace=True)', try using 'df.method({col: value}, inplace=True)' or df[col] = df[col].method(value) instead, to perform the operation inplace on the original object.\n",
      "\n",
      "\n",
      "  df[col].fillna(median_val, inplace=True)\n",
      "C:\\Users\\dell\\AppData\\Local\\Temp\\ipykernel_13516\\2989560477.py:15: FutureWarning: A value is trying to be set on a copy of a DataFrame or Series through chained assignment using an inplace method.\n",
      "The behavior will change in pandas 3.0. This inplace method will never work because the intermediate object on which we are setting values always behaves as a copy.\n",
      "\n",
      "For example, when doing 'df[col].method(value, inplace=True)', try using 'df.method({col: value}, inplace=True)' or df[col] = df[col].method(value) instead, to perform the operation inplace on the original object.\n",
      "\n",
      "\n",
      "  df[col].fillna(median_val, inplace=True)\n",
      "C:\\Users\\dell\\AppData\\Local\\Temp\\ipykernel_13516\\2989560477.py:15: FutureWarning: A value is trying to be set on a copy of a DataFrame or Series through chained assignment using an inplace method.\n",
      "The behavior will change in pandas 3.0. This inplace method will never work because the intermediate object on which we are setting values always behaves as a copy.\n",
      "\n",
      "For example, when doing 'df[col].method(value, inplace=True)', try using 'df.method({col: value}, inplace=True)' or df[col] = df[col].method(value) instead, to perform the operation inplace on the original object.\n",
      "\n",
      "\n",
      "  df[col].fillna(median_val, inplace=True)\n",
      "C:\\Users\\dell\\AppData\\Local\\Temp\\ipykernel_13516\\2989560477.py:15: FutureWarning: A value is trying to be set on a copy of a DataFrame or Series through chained assignment using an inplace method.\n",
      "The behavior will change in pandas 3.0. This inplace method will never work because the intermediate object on which we are setting values always behaves as a copy.\n",
      "\n",
      "For example, when doing 'df[col].method(value, inplace=True)', try using 'df.method({col: value}, inplace=True)' or df[col] = df[col].method(value) instead, to perform the operation inplace on the original object.\n",
      "\n",
      "\n",
      "  df[col].fillna(median_val, inplace=True)\n",
      "C:\\Users\\dell\\AppData\\Local\\Temp\\ipykernel_13516\\2989560477.py:15: FutureWarning: A value is trying to be set on a copy of a DataFrame or Series through chained assignment using an inplace method.\n",
      "The behavior will change in pandas 3.0. This inplace method will never work because the intermediate object on which we are setting values always behaves as a copy.\n",
      "\n",
      "For example, when doing 'df[col].method(value, inplace=True)', try using 'df.method({col: value}, inplace=True)' or df[col] = df[col].method(value) instead, to perform the operation inplace on the original object.\n",
      "\n",
      "\n",
      "  df[col].fillna(median_val, inplace=True)\n",
      "C:\\Users\\dell\\AppData\\Local\\Temp\\ipykernel_13516\\2989560477.py:15: FutureWarning: A value is trying to be set on a copy of a DataFrame or Series through chained assignment using an inplace method.\n",
      "The behavior will change in pandas 3.0. This inplace method will never work because the intermediate object on which we are setting values always behaves as a copy.\n",
      "\n",
      "For example, when doing 'df[col].method(value, inplace=True)', try using 'df.method({col: value}, inplace=True)' or df[col] = df[col].method(value) instead, to perform the operation inplace on the original object.\n",
      "\n",
      "\n",
      "  df[col].fillna(median_val, inplace=True)\n",
      "C:\\Users\\dell\\AppData\\Local\\Temp\\ipykernel_13516\\2989560477.py:15: FutureWarning: A value is trying to be set on a copy of a DataFrame or Series through chained assignment using an inplace method.\n",
      "The behavior will change in pandas 3.0. This inplace method will never work because the intermediate object on which we are setting values always behaves as a copy.\n",
      "\n",
      "For example, when doing 'df[col].method(value, inplace=True)', try using 'df.method({col: value}, inplace=True)' or df[col] = df[col].method(value) instead, to perform the operation inplace on the original object.\n",
      "\n",
      "\n",
      "  df[col].fillna(median_val, inplace=True)\n",
      "C:\\Users\\dell\\AppData\\Local\\Temp\\ipykernel_13516\\2989560477.py:15: FutureWarning: A value is trying to be set on a copy of a DataFrame or Series through chained assignment using an inplace method.\n",
      "The behavior will change in pandas 3.0. This inplace method will never work because the intermediate object on which we are setting values always behaves as a copy.\n",
      "\n",
      "For example, when doing 'df[col].method(value, inplace=True)', try using 'df.method({col: value}, inplace=True)' or df[col] = df[col].method(value) instead, to perform the operation inplace on the original object.\n",
      "\n",
      "\n",
      "  df[col].fillna(median_val, inplace=True)\n"
     ]
    }
   ],
   "source": [
    "import pandas as pd\n",
    "missing_percent = df.isnull().mean() * 100\n",
    "print(\" Missing Value Percentage by Column:\\n\")\n",
    "print(missing_percent.sort_values(ascending=False))\n",
    "cols_to_drop = missing_percent[missing_percent > 60].index\n",
    "df.drop(columns=cols_to_drop, inplace=True)\n",
    "print(f\"\\n Dropped columns with >60% missing values: {list(cols_to_drop)}\")\n",
    "for col in df.columns:\n",
    "    if df[col].isnull().any():\n",
    "        if df[col].dtype == 'object':\n",
    "            most_freq = df[col].mode()[0]\n",
    "            df[col].fillna(most_freq, inplace=True)\n",
    "        else:\n",
    "            median_val = df[col].median()\n",
    "            df[col].fillna(median_val, inplace=True)\n",
    "\n",
    "print(\"\\n Missing values handled successfully.\")"
   ]
  },
  {
   "cell_type": "code",
   "execution_count": 10,
   "id": "c7484df7",
   "metadata": {},
   "outputs": [
    {
     "name": "stdout",
     "output_type": "stream",
     "text": [
      "Collecting scipy\n",
      "  Downloading scipy-1.16.1-cp313-cp313-win_amd64.whl.metadata (60 kB)\n",
      "Requirement already satisfied: numpy<2.6,>=1.25.2 in c:\\users\\dell\\appdata\\local\\programs\\python\\python313\\lib\\site-packages (from scipy) (2.3.1)\n",
      "Downloading scipy-1.16.1-cp313-cp313-win_amd64.whl (38.5 MB)\n",
      "   ---------------------------------------- 0.0/38.5 MB ? eta -:--:--\n",
      "   ---------------------------------------- 0.0/38.5 MB ? eta -:--:--\n",
      "   ---------------------------------------- 0.0/38.5 MB ? eta -:--:--\n",
      "   ---------------------------------------- 0.0/38.5 MB ? eta -:--:--\n",
      "   ---------------------------------------- 0.0/38.5 MB ? eta -:--:--\n",
      "   ---------------------------------------- 0.0/38.5 MB ? eta -:--:--\n",
      "   ---------------------------------------- 0.0/38.5 MB ? eta -:--:--\n",
      "   ---------------------------------------- 0.3/38.5 MB ? eta -:--:--\n",
      "   ---------------------------------------- 0.3/38.5 MB ? eta -:--:--\n",
      "   ---------------------------------------- 0.3/38.5 MB ? eta -:--:--\n",
      "   ---------------------------------------- 0.3/38.5 MB ? eta -:--:--\n",
      "   ---------------------------------------- 0.3/38.5 MB ? eta -:--:--\n",
      "   ---------------------------------------- 0.3/38.5 MB ? eta -:--:--\n",
      "    --------------------------------------- 0.8/38.5 MB 382.9 kB/s eta 0:01:39\n",
      "   - -------------------------------------- 1.3/38.5 MB 649.1 kB/s eta 0:00:58\n",
      "   - -------------------------------------- 1.6/38.5 MB 759.6 kB/s eta 0:00:49\n",
      "   -- ------------------------------------- 2.1/38.5 MB 917.7 kB/s eta 0:00:40\n",
      "   -- ------------------------------------- 2.6/38.5 MB 1.1 MB/s eta 0:00:34\n",
      "   --- ------------------------------------ 3.4/38.5 MB 1.3 MB/s eta 0:00:28\n",
      "   ---- ----------------------------------- 4.2/38.5 MB 1.5 MB/s eta 0:00:24\n",
      "   ----- ---------------------------------- 5.0/38.5 MB 1.6 MB/s eta 0:00:21\n",
      "   ------ --------------------------------- 6.0/38.5 MB 1.9 MB/s eta 0:00:18\n",
      "   ------- -------------------------------- 6.8/38.5 MB 2.0 MB/s eta 0:00:17\n",
      "   -------- ------------------------------- 7.9/38.5 MB 2.1 MB/s eta 0:00:15\n",
      "   --------- ------------------------------ 8.9/38.5 MB 2.3 MB/s eta 0:00:13\n",
      "   --------- ------------------------------ 9.4/38.5 MB 2.3 MB/s eta 0:00:13\n",
      "   ---------- ----------------------------- 10.2/38.5 MB 2.4 MB/s eta 0:00:12\n",
      "   ----------- ---------------------------- 11.0/38.5 MB 2.4 MB/s eta 0:00:12\n",
      "   ------------ --------------------------- 12.1/38.5 MB 2.5 MB/s eta 0:00:11\n",
      "   ------------- -------------------------- 13.1/38.5 MB 2.6 MB/s eta 0:00:10\n",
      "   -------------- ------------------------- 13.9/38.5 MB 2.7 MB/s eta 0:00:10\n",
      "   --------------- ------------------------ 14.9/38.5 MB 2.8 MB/s eta 0:00:09\n",
      "   ---------------- ----------------------- 15.7/38.5 MB 2.8 MB/s eta 0:00:09\n",
      "   ----------------- ---------------------- 17.0/38.5 MB 2.9 MB/s eta 0:00:08\n",
      "   ------------------ --------------------- 18.1/38.5 MB 3.0 MB/s eta 0:00:07\n",
      "   ------------------- -------------------- 19.1/38.5 MB 3.1 MB/s eta 0:00:07\n",
      "   -------------------- ------------------- 20.2/38.5 MB 3.1 MB/s eta 0:00:06\n",
      "   --------------------- ------------------ 21.0/38.5 MB 3.2 MB/s eta 0:00:06\n",
      "   ---------------------- ----------------- 22.0/38.5 MB 3.2 MB/s eta 0:00:06\n",
      "   ------------------------ --------------- 23.3/38.5 MB 3.3 MB/s eta 0:00:05\n",
      "   ------------------------- -------------- 24.4/38.5 MB 3.3 MB/s eta 0:00:05\n",
      "   -------------------------- ------------- 25.4/38.5 MB 3.4 MB/s eta 0:00:04\n",
      "   --------------------------- ------------ 26.7/38.5 MB 3.5 MB/s eta 0:00:04\n",
      "   ---------------------------- ----------- 27.5/38.5 MB 3.5 MB/s eta 0:00:04\n",
      "   ----------------------------- ---------- 28.8/38.5 MB 3.5 MB/s eta 0:00:03\n",
      "   ------------------------------ --------- 29.6/38.5 MB 3.6 MB/s eta 0:00:03\n",
      "   ------------------------------- -------- 30.4/38.5 MB 3.6 MB/s eta 0:00:03\n",
      "   ------------------------------- -------- 30.4/38.5 MB 3.6 MB/s eta 0:00:03\n",
      "   --------------------------------- ------ 32.5/38.5 MB 3.6 MB/s eta 0:00:02\n",
      "   ----------------------------------- ---- 33.8/38.5 MB 3.7 MB/s eta 0:00:02\n",
      "   ------------------------------------ --- 34.9/38.5 MB 3.7 MB/s eta 0:00:01\n",
      "   ------------------------------------- -- 35.7/38.5 MB 3.7 MB/s eta 0:00:01\n",
      "   -------------------------------------- - 36.7/38.5 MB 3.7 MB/s eta 0:00:01\n",
      "   ---------------------------------------  37.7/38.5 MB 3.8 MB/s eta 0:00:01\n",
      "   ---------------------------------------  38.3/38.5 MB 3.8 MB/s eta 0:00:01\n",
      "   ---------------------------------------- 38.5/38.5 MB 3.7 MB/s eta 0:00:00\n",
      "Installing collected packages: scipy\n",
      "Successfully installed scipy-1.16.1\n",
      "Note: you may need to restart the kernel to use updated packages.\n"
     ]
    },
    {
     "name": "stderr",
     "output_type": "stream",
     "text": [
      "\n",
      "[notice] A new release of pip is available: 25.1.1 -> 25.2\n",
      "[notice] To update, run: python.exe -m pip install --upgrade pip\n"
     ]
    }
   ],
   "source": [
    "pip install scipy\n"
   ]
  },
  {
   "cell_type": "code",
   "execution_count": 13,
   "id": "1f5f9123",
   "metadata": {},
   "outputs": [
    {
     "name": "stdout",
     "output_type": "stream",
     "text": [
      " Rare categories merged under 'Other':\n",
      "\n",
      "     City Product\n",
      "0   Delhi       A\n",
      "1  Mumbai       B\n",
      "2   Other   Other\n",
      "3   Delhi       A\n",
      "4   Other   Other\n",
      "5   Other   Other\n",
      "6  Mumbai       B\n",
      "7    Agra       F\n",
      "8    Agra       F\n",
      "9    Agra   Other\n"
     ]
    }
   ],
   "source": [
    "import pandas as pd\n",
    "data = {\n",
    "    'City': ['Delhi', 'Mumbai', 'Chennai', 'Delhi', 'Kolkata', 'Bhopal', 'Mumbai', 'Agra', 'Agra', 'Agra'],\n",
    "    'Product': ['A', 'B', 'C', 'A', 'D', 'E', 'B', 'F', 'F', 'G']\n",
    "}\n",
    "\n",
    "df = pd.DataFrame(data)\n",
    "\n",
    "\n",
    "def merge_rare_categories(df, column, threshold=0.2):\n",
    "    freq = df[column].value_counts(normalize=True)\n",
    "    rare = freq[freq < threshold].index\n",
    "    df[column] = df[column].apply(lambda x: 'Other' if x in rare else x)\n",
    "    return df\n",
    "\n",
    "categorical_cols = df.select_dtypes(include='object').columns\n",
    "\n",
    "for col in categorical_cols:\n",
    "    df = merge_rare_categories(df, col, threshold=0.2)\n",
    "\n",
    "print(\" Rare categories merged under 'Other':\\n\")\n",
    "print(df)"
   ]
  },
  {
   "cell_type": "code",
   "execution_count": 14,
   "id": "23699525",
   "metadata": {},
   "outputs": [
    {
     "ename": "SyntaxError",
     "evalue": "invalid non-printable character U+00A0 (3968075960.py, line 8)",
     "output_type": "error",
     "traceback": [
      "  \u001b[36mCell\u001b[39m\u001b[36m \u001b[39m\u001b[32mIn[14]\u001b[39m\u001b[32m, line 8\u001b[39m\n\u001b[31m    \u001b[39m\u001b[31mdf[col] = winsorize(df[col], limits=[0.01, 0.01])\u001b[39m\n                                                     ^\n\u001b[31mSyntaxError\u001b[39m\u001b[31m:\u001b[39m invalid non-printable character U+00A0\n"
     ]
    }
   ],
   "source": [
    "import pandas as pd\n",
    "from scipy.stats.mstats import winsorize\n",
    "df = pd.DataFrame({\n",
    "    'Sales': [100, 120, 130, 150, 100000, 110, 115, 90, 85, 105],\n",
    "    'Profit': [10, 12, 13, 15, 1000, 11, 11.5, 9, 8.5, 10.5]\n",
    "})\n",
    "for col in df.select_dtypes(include='number').columns:\n",
    "    df[col] = winsorize(df[col], limits=[0.01, 0.01])  \n",
    "\n",
    "print(df)"
   ]
  },
  {
   "cell_type": "code",
   "execution_count": 15,
   "id": "d355c9a3",
   "metadata": {},
   "outputs": [
    {
     "name": "stdout",
     "output_type": "stream",
     "text": [
      "   Income Income_Bracket\n",
      "0   25000            Low\n",
      "1   30000            Low\n",
      "2   40000            Low\n",
      "3   50000            Mid\n",
      "4   60000            Mid\n",
      "5   70000            Mid\n",
      "6   80000            Mid\n",
      "7   90000           High\n",
      "8  100000           High\n",
      "9  150000           High\n"
     ]
    }
   ],
   "source": [
    "import pandas as pd\n",
    "df = pd.DataFrame({\n",
    "    'Income': [25000, 30000, 40000, 50000, 60000, 70000, 80000, 90000, 100000, 150000]\n",
    "})\n",
    "q1 = df['Income'].quantile(0.25)\n",
    "q3 = df['Income'].quantile(0.75)\n",
    "def income_bracket(income):\n",
    "    if income <= q1:\n",
    "        return 'Low'\n",
    "    elif income <= q3:\n",
    "        return 'Mid'\n",
    "    else:\n",
    "        return 'High'\n",
    "df['Income_Bracket'] = df['Income'].apply(income_bracket)\n",
    "\n",
    "print(df)"
   ]
  },
  {
   "cell_type": "code",
   "execution_count": 16,
   "id": "0a2dad69",
   "metadata": {},
   "outputs": [
    {
     "name": "stdout",
     "output_type": "stream",
     "text": [
      "['Income', 'Income_Bracket']\n",
      "Column 'SK_ID_CURR' missing! Check actual column names above.\n"
     ]
    }
   ],
   "source": [
    "import pandas as pd\n",
    "df.columns = df.columns.str.strip()\n",
    "\n",
    "\n",
    "print(df.columns.tolist())\n",
    "if 'SK_ID_CURR' in df.columns:\n",
    "    total_applicants = df['SK_ID_CURR'].nunique()\n",
    "    print(f\"Total Applicants: {total_applicants}\")\n",
    "else:\n",
    "    print(\"Column 'SK_ID_CURR' missing! Check actual column names above.\")"
   ]
  },
  {
   "cell_type": "code",
   "execution_count": 17,
   "id": "3143a667",
   "metadata": {},
   "outputs": [
    {
     "name": "stdout",
     "output_type": "stream",
     "text": [
      "Default Rate (%): column missing\n"
     ]
    }
   ],
   "source": [
    "# Default Rate (%)\n",
    "if 'TARGET' in df.columns:\n",
    "    default_rate = df['TARGET'].mean() * 100\n",
    "    print(f\"Default Rate (%): {default_rate:.2f}\")\n",
    "else:\n",
    "    print(\"Default Rate (%): column missing\")"
   ]
  },
  {
   "cell_type": "code",
   "execution_count": 20,
   "id": "9208aed7",
   "metadata": {},
   "outputs": [
    {
     "name": "stdout",
     "output_type": "stream",
     "text": [
      " Cleaned and segmented dataset:\n",
      "\n",
      "   Gender    Education Family_Status   Housing  Income  Age Income_Bracket  \\\n",
      "0    Male  High School        Single     Owned   25000   22            Low   \n",
      "1  Female     Bachelor       Married    Rented   40000   29            Mid   \n",
      "2    Male       Master      Divorced  Mortgage   60000   37            Mid   \n",
      "3  Female    Doctorate       Widowed     Other   85000   45           High   \n",
      "4  Female  High School        Single     Owned  120000   63           High   \n",
      "5    Male     Bachelor       Married    Rented   30000   70            Low   \n",
      "\n",
      "  Age_Range  \n",
      "0       <25  \n",
      "1     25–34  \n",
      "2     35–49  \n",
      "3     35–49  \n",
      "4     50–64  \n",
      "5       65+  \n"
     ]
    }
   ],
   "source": [
    "import pandas as pd\n",
    "\n",
    "\n",
    "df = pd.DataFrame({\n",
    "    'Gender': ['M', 'F', 'Male', 'female', 'F', 'M'],\n",
    "    'Education': ['HS', 'Bachelor', 'Masters', 'PhD', 'High School', 'Bachelors'],\n",
    "    'Family_Status': ['Single', 'Married', 'Divorced', 'Widowed', 'Single', 'Married'],\n",
    "    'Housing': ['Owned', 'Rented', 'Mortgage', 'Other', 'Owned', 'Rented'],\n",
    "    'Income': [25000, 40000, 60000, 85000, 120000, 30000],\n",
    "    'Age': [22, 29, 37, 45, 63, 70]\n",
    "})\n",
    "\n",
    "\n",
    "df['Gender'] = df['Gender'].str.strip().str.capitalize()\n",
    "df['Gender'] = df['Gender'].replace({'M': 'Male', 'F': 'Female'})\n",
    "\n",
    "\n",
    "education_map = {\n",
    "    'High School': 'High School',\n",
    "    'HS': 'High School',\n",
    "    'Bachelor': 'Bachelor',\n",
    "    'Bachelors': 'Bachelor',\n",
    "    'Master': 'Master',\n",
    "    'Masters': 'Master',\n",
    "    'PhD': 'Doctorate',\n",
    "    'Doctorate': 'Doctorate'\n",
    "}\n",
    "df['Education'] = df['Education'].str.strip().map(education_map)\n",
    "\n",
    "\n",
    "family_map = {\n",
    "    'Single': 'Single',\n",
    "    'Married': 'Married',\n",
    "    'Divorced': 'Divorced',\n",
    "    'Widowed': 'Widowed'\n",
    "}\n",
    "df['Family_Status'] = df['Family_Status'].str.strip().map(family_map)\n",
    "\n",
    "\n",
    "housing_map = {\n",
    "    'Owned': 'Owned',\n",
    "    'Rented': 'Rented',\n",
    "'Mortgage': 'Mortgage',\n",
    "    'Other': 'Other'\n",
    "}\n",
    "df['Housing'] = df['Housing'].str.strip().map(housing_map)\n",
    "\n",
    "\n",
    "q1 = df['Income'].quantile(0.25)\n",
    "q3 = df['Income'].quantile(0.75)\n",
    "\n",
    "def income_bracket(income):\n",
    "    if income <= q1:\n",
    "        return 'Low'\n",
    "    elif income <= q3:\n",
    "        return 'Mid'\n",
    "    else:\n",
    "        return 'High'\n",
    "\n",
    "df['Income_Bracket'] = df['Income'].apply(income_bracket)\n",
    "\n",
    "\n",
    "bins = [0, 25, 35, 50, 65, 100]\n",
    "labels = ['<25', '25–34', '35–49', '50–64', '65+']\n",
    "df['Age_Range'] = pd.cut(df['Age'], bins=bins, labels=labels, right=False)\n",
    "\n",
    "\n",
    "print(\" Cleaned and segmented dataset:\\n\")\n",
    "print(df)"
   ]
  },
  {
   "cell_type": "code",
   "execution_count": 21,
   "id": "2210886a",
   "metadata": {},
   "outputs": [
    {
     "name": "stdout",
     "output_type": "stream",
     "text": [
      "Default Rate (%): 60.00\n"
     ]
    }
   ],
   "source": [
    "import pandas as pd\n",
    "\n",
    "df = pd.DataFrame({'TARGET': [0, 1, 0, 1, 1]})\n",
    "\n",
    "def calculate_default_rate(df, column='TARGET'):\n",
    "    if column in df.columns:\n",
    "        rate = df[column].mean() * 100\n",
    "        return f\"Default Rate (%): {rate:.2f}\"\n",
    "    else:\n",
    "        return f\"Default Rate (%): '{column}' column missing\"\n",
    "\n",
    "print(calculate_default_rate(df))"
   ]
  },
  {
   "cell_type": "code",
   "execution_count": 22,
   "id": "7126c3d8",
   "metadata": {},
   "outputs": [
    {
     "name": "stdout",
     "output_type": "stream",
     "text": [
      "Default Rate (%): 60.00\n",
      "Repaid Rate (%): 40.00\n"
     ]
    }
   ],
   "source": [
    "import pandas as pd\n",
    "\n",
    "df = pd.DataFrame({'TARGET': [0, 1, 0, 1, 1]})\n",
    "\n",
    "def calculate_rates(df, column='TARGET'):\n",
    "    if column in df.columns:\n",
    "        default_rate = df[column].mean() * 100\n",
    "        repaid_rate = (1 - df[column].mean()) * 100\n",
    "        return (\n",
    "            f\"Default Rate (%): {default_rate:.2f}\\n\"\n",
    "            f\"Repaid Rate (%): {repaid_rate:.2f}\"\n",
    "        )\n",
    "    else:\n",
    "        return f\"Rates: '{column}' column missing\"\n",
    "\n",
    "print(calculate_rates(df))"
   ]
  },
  {
   "cell_type": "code",
   "execution_count": 23,
   "id": "579a45fa",
   "metadata": {},
   "outputs": [
    {
     "name": "stdout",
     "output_type": "stream",
     "text": [
      "Total Features: 1\n"
     ]
    }
   ],
   "source": [
    "total_features = df.shape[1]\n",
    "print(f\"Total Features: {total_features}\")"
   ]
  },
  {
   "cell_type": "code",
   "execution_count": 24,
   "id": "629a61df",
   "metadata": {},
   "outputs": [
    {
     "name": "stdout",
     "output_type": "stream",
     "text": [
      "Avg Missing per Feature (%): 0.00\n"
     ]
    }
   ],
   "source": [
    "avg_missing_per_feature = df.isnull().mean().mean() * 100\n",
    "print(f\"Avg Missing per Feature (%): {avg_missing_per_feature:.2f}\")"
   ]
  },
  {
   "cell_type": "code",
   "execution_count": 25,
   "id": "481481d7",
   "metadata": {},
   "outputs": [
    {
     "name": "stdout",
     "output_type": "stream",
     "text": [
      "Numerical Features (1): ['TARGET']\n"
     ]
    }
   ],
   "source": [
    "numerical_features = df.select_dtypes(include=['number']).columns\n",
    "print(f\"Numerical Features ({len(numerical_features)}): {list(numerical_features)}\")"
   ]
  },
  {
   "cell_type": "code",
   "execution_count": 26,
   "id": "b104d911",
   "metadata": {},
   "outputs": [
    {
     "name": "stdout",
     "output_type": "stream",
     "text": [
      "Categorical Features (0): []\n"
     ]
    }
   ],
   "source": [
    "categorical_features = df.select_dtypes(include=['object', 'category']).columns\n",
    "print(f\"Categorical Features ({len(categorical_features)}): {list(categorical_features)}\")"
   ]
  },
  {
   "cell_type": "code",
   "execution_count": 27,
   "id": "0f9d1f99",
   "metadata": {},
   "outputs": [
    {
     "name": "stdout",
     "output_type": "stream",
     "text": [
      "Median Age (Years): 'AGE_YEARS' column missing\n"
     ]
    }
   ],
   "source": [
    "# Standardize column names\n",
    "df.columns = df.columns.str.strip().str.upper()\n",
    "\n",
    "# Calculate and print median age\n",
    "if 'AGE_YEARS' in df.columns:\n",
    "    median_age = df['AGE_YEARS'].median()\n",
    "    print(f\"Median Age (Years): {median_age:.2f}\")\n",
    "else:\n",
    "    print(\"Median Age (Years): 'AGE_YEARS' column missing\")"
   ]
  },
  {
   "cell_type": "code",
   "execution_count": 28,
   "id": "a90b4139",
   "metadata": {},
   "outputs": [
    {
     "name": "stdout",
     "output_type": "stream",
     "text": [
      "Median Annual Income: income column missing\n"
     ]
    }
   ],
   "source": [
    "# Standardize column names\n",
    "df.columns = df.columns.str.strip().str.upper()\n",
    "\n",
    "# Identify likely income column\n",
    "income_cols = [col for col in df.columns if 'INCOME' in col]\n",
    "\n",
    "if income_cols:\n",
    "    median_income = df[income_cols[0]].median()\n",
    "    print(f\"Median Annual Income: ₹{median_income:,.2f}\")\n",
    "else:\n",
    "    print(\"Median Annual Income: income column missing\")"
   ]
  },
  {
   "cell_type": "code",
   "execution_count": 30,
   "id": "68854521",
   "metadata": {},
   "outputs": [
    {
     "name": "stdout",
     "output_type": "stream",
     "text": [
      "Average Credit Amount: credit column missing\n"
     ]
    }
   ],
   "source": [
    "# Standardize column names\n",
    "df.columns = df.columns.str.strip().str.upper()\n",
    "\n",
    "# Identify likely credit column\n",
    "credit_cols = [col for col in df.columns if 'CREDIT' in col or 'LOAN' in col]\n",
    "\n",
    "if credit_cols:\n",
    "    avg_credit = df[credit_cols[0]].mean()\n",
    "    print(f\"Average Credit Amount: ₹{avg_credit:,.2f}\")\n",
    "else:\n",
    "    print(\"Average Credit Amount: credit column missing\")"
   ]
  },
  {
   "cell_type": "code",
   "execution_count": 31,
   "id": "1e66c2a7",
   "metadata": {},
   "outputs": [
    {
     "name": "stdout",
     "output_type": "stream",
     "text": [
      "Total Defaults: 3\n"
     ]
    }
   ],
   "source": [
    "# Standardize column names\n",
    "df.columns = df.columns.str.strip().str.upper()\n",
    "\n",
    "# Calculate total defaults\n",
    "if 'TARGET' in df.columns:\n",
    "    total_defaults = df['TARGET'].sum()\n",
    "    print(f\"Total Defaults: {int(total_defaults)}\")\n",
    "else:\n",
    "    print(\"Total Defaults: 'TARGET' column missing\")"
   ]
  },
  {
   "cell_type": "code",
   "execution_count": 32,
   "id": "41e8ff91",
   "metadata": {},
   "outputs": [
    {
     "name": "stdout",
     "output_type": "stream",
     "text": [
      "Default Rate (%): 60.00\n"
     ]
    }
   ],
   "source": [
    "df.columns = df.columns.str.strip().str.upper()\n",
    "\n",
    "if 'TARGET' in df.columns:\n",
    "    default_rate = df['TARGET'].mean() * 100\n",
    "    print(f\"Default Rate (%): {default_rate:.2f}\")\n",
    "else:\n",
    "    print(\"Default Rate (%): 'TARGET' column missing\")"
   ]
  },
  {
   "cell_type": "code",
   "execution_count": 34,
   "id": "771003fd",
   "metadata": {},
   "outputs": [
    {
     "name": "stdout",
     "output_type": "stream",
     "text": [
      "Required columns ('TARGET' and 'GENDER') are missing\n"
     ]
    }
   ],
   "source": [
    "# Standardize column names\n",
    "df.columns = df.columns.str.strip().str.upper()\n",
    "\n",
    "# Check required columns\n",
    "if 'TARGET' in df.columns and 'GENDER' in df.columns:\n",
    "    default_by_gender = df.groupby('GENDER')['TARGET'].mean() * 100\n",
    "    print(\"Default Rate by Gender (%):\")\n",
    "    print(default_by_gender.round(2))\n",
    "else:\n",
    "    print(\"Required columns ('TARGET' and 'GENDER') are missing\")\n"
   ]
  },
  {
   "cell_type": "code",
   "execution_count": 35,
   "id": "a90a1c43",
   "metadata": {},
   "outputs": [
    {
     "name": "stdout",
     "output_type": "stream",
     "text": [
      "Required columns ('TARGET' and 'EDUCATION') are missing\n"
     ]
    }
   ],
   "source": [
    "# Standardize column names\n",
    "df.columns = df.columns.str.strip().str.upper()\n",
    "\n",
    "# Check required columns\n",
    "if 'TARGET' in df.columns and 'EDUCATION' in df.columns:\n",
    "    default_by_education = df.groupby('EDUCATION')['TARGET'].mean() * 100\n",
    "    print(\"Default Rate by Education (%):\")\n",
    "    print(default_by_education.round(2))\n",
    "else:\n",
    "    print(\"Required columns ('TARGET' and 'EDUCATION') are missing\")"
   ]
  },
  {
   "cell_type": "code",
   "execution_count": 36,
   "metadata": {},
   "outputs": [
    {
     "name": "stdout",
     "output_type": "stream",
     "text": [
      "Required columns ('TARGET' and 'FAMILY_STATUS') are missing\n"
     ]
    }
   ],
   "source": [
    "# Standardize column names\n",
    "df.columns = df.columns.str.strip().str.upper()\n",
    "\n",
    "# Check required columns\n",
    "if 'TARGET' in df.columns and 'FAMILY_STATUS' in df.columns:\n",
    "    default_by_family = df.groupby('FAMILY_STATUS')['TARGET'].mean() * 100\n",
    "    print(\"Default Rate by Family Status (%):\")\n",
    "    print(default_by_family.round(2))\n",
    "else:\n",
    "    print(\"Required columns ('TARGET' and 'FAMILY_STATUS') are missing\")"
   ]
  },
  {
   "cell_type": "code",
   "execution_count": 37,
   "id": "94429f8a",
   "metadata": {},
   "outputs": [
    {
     "name": "stdout",
     "output_type": "stream",
     "text": [
      "Required columns ('TARGET' and income) are missing\n"
     ]
    }
   ],
   "source": [
    "# Standardize column names\n",
    "df.columns = df.columns.str.strip().str.upper()\n",
    "\n",
    "# Identify income column\n",
    "income_cols = [col for col in df.columns if 'INCOME' in col]\n",
    "\n",
    "if 'TARGET' in df.columns and income_cols:\n",
    "    avg_income_defaulters = df[df['TARGET'] == 1][income_cols[0]].mean()\n",
    "    print(f\"Average Income — Defaulters: ₹{avg_income_defaulters:,.2f}\")\n",
    "else:\n",
    "    print(\"Required columns ('TARGET' and income) are missing\")"
   ]
  },
  {
   "cell_type": "code",
   "execution_count": null,
   "id": "2d6f7bb4",
   "metadata": {},
   "outputs": [],
   "source": []
  },
  {
   "cell_type": "code",
   "execution_count": null,
   "id": "fedde78b",
   "metadata": {},
   "outputs": [],
   "source": []
  },
  {
   "cell_type": "code",
   "execution_count": null,
   "metadata": {},
   "outputs": [],
   "source": []
  }
 ],
 "metadata": {
  "kernelspec": {
   "display_name": "Python 3",
   "language": "python",
   "name": "python3"
  },
  "language_info": {
   "codemirror_mode": {
    "name": "ipython",
    "version": 3
   },
   "file_extension": ".py",
   "mimetype": "text/x-python",
   "name": "python",
   "nbconvert_exporter": "python",
   "pygments_lexer": "ipython3",
   "version": "3.13.5"
  }
 },
 "nbformat": 4,
 "nbformat_minor": 5
}
