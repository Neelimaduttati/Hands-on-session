{
 "cells": [
  {
   "cell_type": "code",
   "execution_count": 6,
   "id": "3416883c",
   "metadata": {},
   "outputs": [
    {
     "name": "stdout",
     "output_type": "stream",
     "text": [
      "product of first 10 natural numbers 3628800\n"
     ]
    }
   ],
   "source": [
    "# Question 1: Calculate the product of first 10 natural numbers\n",
    "\n",
    "product=1\n",
    "for i in range(1,11):\n",
    "    product *= i\n",
    "print(\"product of first 10 natural numbers\",product)\n",
    "\n"
   ]
  },
  {
   "cell_type": "code",
   "execution_count": 9,
   "id": "7484b49b",
   "metadata": {},
   "outputs": [
    {
     "name": "stdout",
     "output_type": "stream",
     "text": [
      "2\n"
     ]
    }
   ],
   "source": [
    "# Question 2: Find the remainder when 156 is divided by 7\n",
    "remainder=0\n",
    "remainder= print(156%7)"
   ]
  },
  {
   "cell_type": "code",
   "execution_count": 11,
   "id": "6f8c07df",
   "metadata": {},
   "outputs": [
    {
     "name": "stdout",
     "output_type": "stream",
     "text": [
      "625\n"
     ]
    }
   ],
   "source": [
    "# Question 3: Calculate the square of 25\n",
    "number = 25\n",
    "square = number * 25\n",
    "print(square)\n"
   ]
  },
  {
   "cell_type": "code",
   "execution_count": 12,
   "id": "94ddbe85",
   "metadata": {},
   "outputs": [
    {
     "name": "stdout",
     "output_type": "stream",
     "text": [
      "1953125\n"
     ]
    }
   ],
   "source": [
    "# Question 4: Find the cube root of 125\n",
    "number = 125\n",
    "cube_root=125**3\n",
    "print(cube_root)"
   ]
  },
  {
   "cell_type": "code",
   "execution_count": 13,
   "id": "c9a4daf5",
   "metadata": {},
   "outputs": [
    {
     "name": "stdout",
     "output_type": "stream",
     "text": [
      "sum of digits 1\n",
      "sum of digits 3\n",
      "sum of digits 6\n",
      "sum of digits 10\n",
      "sum of digits 15\n"
     ]
    }
   ],
   "source": [
    "# Question 5: Calculate the sum of digits in number 12345\n",
    "sum = 0\n",
    "for i in range(1,6):\n",
    "  sum +=i\n",
    "  print(\"sum of digits\",sum)\n",
    "  "
   ]
  },
  {
   "cell_type": "code",
   "execution_count": 14,
   "id": "c27bdb46",
   "metadata": {},
   "outputs": [
    {
     "name": "stdout",
     "output_type": "stream",
     "text": [
      "it is a prime number\n"
     ]
    }
   ],
   "source": [
    "# Question 6: Check if 97 is a prime number\n",
    "prime = 19\n",
    "if 97%2==1:\n",
    "    print(\"it is a prime number\")"
   ]
  },
  {
   "cell_type": "code",
   "execution_count": 15,
   "id": "ffc6595f",
   "metadata": {},
   "outputs": [
    {
     "name": "stdout",
     "output_type": "stream",
     "text": [
      "factorial of 8 is 1\n",
      "factorial of 8 is 2\n",
      "factorial of 8 is 6\n",
      "factorial of 8 is 24\n",
      "factorial of 8 is 120\n",
      "factorial of 8 is 720\n",
      "factorial of 8 is 5040\n",
      "factorial of 8 is 40320\n"
     ]
    }
   ],
   "source": [
    "# Question 7: Find the factorial of 8\n",
    "fact=1\n",
    "for i in range(1,9):\n",
    "    fact*=i\n",
    "    print(\"factorial of 8 is\",fact)"
   ]
  },
  {
   "cell_type": "code",
   "execution_count": 16,
   "id": "9b05caf4",
   "metadata": {},
   "outputs": [
    {
     "name": "stdout",
     "output_type": "stream",
     "text": [
      "average of number is 83.5\n"
     ]
    }
   ],
   "source": [
    "# Question 8: Calculate the average of numbers: 15, 23, 31, 42, 56\n",
    "avg=0\n",
    "sum = (15+23+31+42+56)/2\n",
    "print(\"average of number is\",sum)"
   ]
  },
  {
   "cell_type": "code",
   "execution_count": 18,
   "id": "1a54eb4d",
   "metadata": {},
   "outputs": [
    {
     "data": {
      "text/plain": [
       "12"
      ]
     },
     "execution_count": 18,
     "metadata": {},
     "output_type": "execute_result"
    }
   ],
   "source": [
    "# Question 9: Find the greatest common divisor (GCD) of 48 and 36\n",
    "import math\n",
    "math.gcd(48,36)\n"
   ]
  },
  {
   "cell_type": "code",
   "execution_count": 19,
   "id": "48520987",
   "metadata": {},
   "outputs": [
    {
     "name": "stdout",
     "output_type": "stream",
     "text": [
      "400\n"
     ]
    }
   ],
   "source": [
    "# Question 10: Calculate the sum of first 20 odd numbers\n",
    "sum=0\n",
    "for i in range(1,40,2):\n",
    "    sum+= i\n",
    "print(sum)\n"
   ]
  }
 ],
 "metadata": {
  "kernelspec": {
   "display_name": "Python 3",
   "language": "python",
   "name": "python3"
  },
  "language_info": {
   "codemirror_mode": {
    "name": "ipython",
    "version": 3
   },
   "file_extension": ".py",
   "mimetype": "text/x-python",
   "name": "python",
   "nbconvert_exporter": "python",
   "pygments_lexer": "ipython3",
   "version": "3.13.5"
  }
 },
 "nbformat": 4,
 "nbformat_minor": 5
}
