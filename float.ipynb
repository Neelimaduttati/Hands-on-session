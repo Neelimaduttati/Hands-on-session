{
 "cells": [
  {
   "cell_type": "code",
   "execution_count": null,
   "id": "8523ecc0",
   "metadata": {},
   "outputs": [
    {
     "name": "stdout",
     "output_type": "stream",
     "text": [
      "4.0265\n"
     ]
    }
   ],
   "source": [
    "# Question 1: Calculate the average of 3.14, 2.718, 1.618, 0.577\n",
    "avg=0\n",
    "sum=(3.14+2.718+1.618+0.577)/2\n",
    "print(sum)"
   ]
  },
  {
   "cell_type": "code",
   "execution_count": 2,
   "id": "21ba9322",
   "metadata": {},
   "outputs": [
    {
     "name": "stdout",
     "output_type": "stream",
     "text": [
      "37.0\n"
     ]
    }
   ],
   "source": [
    "# Question 2: Convert 98.6 Fahrenheit to Celsius (F = C * 9/5 + 32)\n",
    "f= 98.6\n",
    "c= (5/9) * (f - 32)\n",
    "print(c)"
   ]
  },
  {
   "cell_type": "code",
   "execution_count": 3,
   "id": "e342adc6",
   "metadata": {},
   "outputs": [
    {
     "name": "stdout",
     "output_type": "stream",
     "text": [
      "174.24137499999983\n"
     ]
    }
   ],
   "source": [
    "# Question 3: Calculate the compound interest on $1000 at 5.5% for 3 years\n",
    "p=1000\n",
    "t=3\n",
    "r=0.055\n",
    "n=1\n",
    "A=p*(1+r/n)**(n*t)\n",
    "com_int=A-p\n",
    "print(com_int)\n"
   ]
  },
  {
   "cell_type": "code",
   "execution_count": 4,
   "id": "d2f6ecfb",
   "metadata": {},
   "outputs": [
    {
     "name": "stdout",
     "output_type": "stream",
     "text": [
      "5.4671747731346585\n"
     ]
    }
   ],
   "source": [
    "# Question 4: Find the hypotenuse of a right triangle with sides 3.5 and 4.2\n",
    "import math\n",
    "total = math.sqrt(3.5**2+4.2**2)\n",
    "print(total)"
   ]
  },
  {
   "cell_type": "code",
   "execution_count": 5,
   "id": "c918904d",
   "metadata": {},
   "outputs": [
    {
     "name": "stdout",
     "output_type": "stream",
     "text": [
      "1986.7910399999998\n"
     ]
    }
   ],
   "source": [
    "# Question 5: Calculate the volume of a sphere with radius 7.8\n",
    "import math\n",
    "radius = 7.8\n",
    "volume=(4/3)*3.14*(radius**3)\n",
    "print(volume)"
   ]
  },
  {
   "cell_type": "code",
   "execution_count": 6,
   "id": "71242c78",
   "metadata": {},
   "outputs": [
    {
     "name": "stdout",
     "output_type": "stream",
     "text": [
      "3.142\n"
     ]
    }
   ],
   "source": [
    "# Question 6: Round 3.14159 to 3 decimal places\n",
    "r=3.14159\n",
    "print(round(r,3))"
   ]
  },
  {
   "cell_type": "code",
   "execution_count": 8,
   "id": "3f4b5827",
   "metadata": {},
   "outputs": [
    {
     "name": "stdout",
     "output_type": "stream",
     "text": [
      "67.16417910447761\n"
     ]
    }
   ],
   "source": [
    "# Question 7: Calculate the percentage: 45 out of 67\n",
    "percentage=(45/67)*100\n",
    "print(percentage)"
   ]
  },
  {
   "cell_type": "code",
   "execution_count": 9,
   "id": "553b3227",
   "metadata": {},
   "outputs": [
    {
     "name": "stdout",
     "output_type": "stream",
     "text": [
      "4.843139477652899\n"
     ]
    }
   ],
   "source": [
    "# Question 8: Find the square root of 23.456\n",
    "number=23.456\n",
    "total=number ** 0.5 #1/2 = 0.5 value\n",
    "print(total)"
   ]
  },
  {
   "cell_type": "code",
   "execution_count": 10,
   "id": "1f8e6091",
   "metadata": {},
   "outputs": [
    {
     "name": "stdout",
     "output_type": "stream",
     "text": [
      "simple interest is 4.0625\n"
     ]
    }
   ],
   "source": [
    "# Question 9: Calculate the simple interest: Principal=2500, Rate=6.5%, Time=2.5 years\n",
    "p=2500\n",
    "r=0.065\n",
    "t=2.5\n",
    "n=1\n",
    "SI=(p*r*t)/100\n",
    "print(\"simple interest is\",SI)"
   ]
  },
  {
   "cell_type": "code",
   "execution_count": 13,
   "id": "67de1f07",
   "metadata": {},
   "outputs": [
    {
     "name": "stdout",
     "output_type": "stream",
     "text": [
      "0.7972111111111112\n"
     ]
    }
   ],
   "source": [
    "# Question 10: Convert 45.7 degrees to radians\n",
    "degree=45.7\n",
    "radians=degree*(3.14/180)\n",
    "print(radians)"
   ]
  }
 ],
 "metadata": {
  "kernelspec": {
   "display_name": "Python 3",
   "language": "python",
   "name": "python3"
  },
  "language_info": {
   "codemirror_mode": {
    "name": "ipython",
    "version": 3
   },
   "file_extension": ".py",
   "mimetype": "text/x-python",
   "name": "python",
   "nbconvert_exporter": "python",
   "pygments_lexer": "ipython3",
   "version": "3.13.5"
  }
 },
 "nbformat": 4,
 "nbformat_minor": 5
}
