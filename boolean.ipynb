{
 "cells": [
  {
   "cell_type": "code",
   "execution_count": 1,
   "id": "eb5718eb",
   "metadata": {},
   "outputs": [
    {
     "name": "stdout",
     "output_type": "stream",
     "text": [
      "It is satisfied\n"
     ]
    }
   ],
   "source": [
    "# Question 1: Check if 25 is greater than 20 and less than 30\n",
    "if 25 > 20 < 30:\n",
    "     print(\"It is satisfied\")\n",
    "else:\n",
    "    print(\"It is not satisfied\")"
   ]
  },
  {
   "cell_type": "code",
   "execution_count": 2,
   "id": "c5e9cb41",
   "metadata": {},
   "outputs": [
    {
     "name": "stdout",
     "output_type": "stream",
     "text": [
      "equal\n"
     ]
    }
   ],
   "source": [
    "# Question 2: Check if string \"python\" is equal to \"Python\" (case sensitive)\n",
    "\n",
    "a = \"python\"\n",
    "b = \"python\"\n",
    "if a==b:\n",
    "    print(\"equal\")\n",
    "else:\n",
    "    print(\"not equal\")"
   ]
  },
  {
   "cell_type": "code",
   "execution_count": 3,
   "id": "f1714d07",
   "metadata": {},
   "outputs": [
    {
     "name": "stdout",
     "output_type": "stream",
     "text": [
      "It is divisible\n"
     ]
    }
   ],
   "source": [
    "# Question 3: Check if 15 is divisible by both 3 and 5\n",
    "\n",
    "a = 15\n",
    "b = 3\n",
    "c = 5\n",
    "\n",
    "if a%b==0 and a%c==0:\n",
    "    print(\"It is divisible\")\n",
    "else:\n",
    "    print(\"It is not divisible\")"
   ]
  },
  {
   "cell_type": "code",
   "execution_count": 4,
   "id": "b6f89330",
   "metadata": {},
   "outputs": [
    {
     "name": "stdout",
     "output_type": "stream",
     "text": [
      "not equal\n"
     ]
    }
   ],
   "source": [
    "# Question 4: Check if 7 is not equal to 8\n",
    "\n",
    "a = 7\n",
    "b = 8\n",
    "if a==b:\n",
    "    print(\"equal\")\n",
    "else:\n",
    "    print(\"not equal\")"
   ]
  },
  {
   "cell_type": "code",
   "execution_count": 5,
   "id": "0ce4c9e9",
   "metadata": {},
   "outputs": [
    {
     "name": "stdout",
     "output_type": "stream",
     "text": [
      "It is satisfied\n"
     ]
    }
   ],
   "source": [
    "# Question 5: Check if 100 is greater than 50 or less than 25\n",
    "\n",
    "if 100 > 50 or 50 < 25:\n",
    "    print(\"It is satisfied\")\n",
    "else:\n",
    "    print(\"It is not satisfied\")"
   ]
  },
  {
   "cell_type": "code",
   "execution_count": 6,
   "id": "3076cce9",
   "metadata": {},
   "outputs": [
    {
     "name": "stdout",
     "output_type": "stream",
     "text": [
      "It is valid\n"
     ]
    }
   ],
   "source": [
    "# Question 6: Check if 0 is falsy in Python\n",
    "for i in range(0,10):\n",
    "    if i==0:\n",
    "        print(\"It is valid\")"
   ]
  },
  {
   "cell_type": "code",
   "execution_count": 7,
   "id": "20877f7d",
   "metadata": {},
   "outputs": [
    {
     "data": {
      "text/plain": [
       "False"
      ]
     },
     "execution_count": 7,
     "metadata": {},
     "output_type": "execute_result"
    }
   ],
   "source": [
    "# Question 7: Check if empty string \"\" is falsy in Python\n",
    "\n",
    "bool(\"\")\n"
   ]
  },
  {
   "cell_type": "code",
   "execution_count": 8,
   "id": "ea74d681",
   "metadata": {},
   "outputs": [
    {
     "data": {
      "text/plain": [
       "True"
      ]
     },
     "execution_count": 8,
     "metadata": {},
     "output_type": "execute_result"
    }
   ],
   "source": [
    "# Question 8: Check if 42 is truthy in Python\n",
    "bool(42)"
   ]
  },
  {
   "cell_type": "code",
   "execution_count": 9,
   "id": "37d31f55",
   "metadata": {},
   "outputs": [
    {
     "name": "stdout",
     "output_type": "stream",
     "text": [
      "It is valid\n"
     ]
    }
   ],
   "source": [
    "# Question 9: Check if 10 is between 5 and 15 (inclusive)\n",
    "\n",
    "if 10 in range(5,15):\n",
    "    print(\"It is valid\")\n",
    "else:\n",
    "    print(\"It is not valid\")\n"
   ]
  },
  {
   "cell_type": "code",
   "execution_count": 10,
   "id": "338623f8",
   "metadata": {},
   "outputs": [
    {
     "name": "stdout",
     "output_type": "stream",
     "text": [
      "It is correct\n"
     ]
    }
   ],
   "source": [
    "# Question 10: Check if 3.14 is greater than 3 and less than 4\n",
    "\n",
    "if 3.14 > 3 and 3 < 4:\n",
    "    print(\"It is correct\")\n",
    "else:\n",
    "    print(\"It is wrong\")"
   ]
  }
 ],
 "metadata": {
  "kernelspec": {
   "display_name": "Python 3",
   "language": "python",
   "name": "python3"
  },
  "language_info": {
   "codemirror_mode": {
    "name": "ipython",
    "version": 3
   },
   "file_extension": ".py",
   "mimetype": "text/x-python",
   "name": "python",
   "nbconvert_exporter": "python",
   "pygments_lexer": "ipython3",
   "version": "3.13.5"
  }
 },
 "nbformat": 4,
 "nbformat_minor": 5
}
