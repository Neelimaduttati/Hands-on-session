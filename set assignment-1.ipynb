{
 "cells": [
  {
   "cell_type": "code",
   "execution_count": 1,
   "id": "b5fdb368",
   "metadata": {},
   "outputs": [
    {
     "data": {
      "text/plain": [
       "{1, 2, 3, 4, 5, 6, 7, 8, 9, 10}"
      ]
     },
     "execution_count": 1,
     "metadata": {},
     "output_type": "execute_result"
    }
   ],
   "source": [
    "# Question 1: Create a set of first 10 natural numbers\n",
    "a = set(range(1,11))\n",
    "a"
   ]
  },
  {
   "cell_type": "code",
   "execution_count": 2,
   "metadata": {},
   "outputs": [
    {
     "data": {
      "text/plain": [
       "{1, 2, 3, 4, 5, 11}"
      ]
     },
     "execution_count": 2,
     "metadata": {},
     "output_type": "execute_result"
    }
   ],
   "source": [
    "# Question 2: Add element 11 to set {1, 2, 3, 4, 5}\n",
    "b = {1, 2, 3, 4, 5}\n",
    "b.add(11)\n",
    "b"
   ]
  },
  {
   "cell_type": "code",
   "execution_count": 3,
   "id": "5ea0ad43",
   "metadata": {},
   "outputs": [
    {
     "data": {
      "text/plain": [
       "{1, 2, 4, 5, 6}"
      ]
     },
     "execution_count": 3,
     "metadata": {},
     "output_type": "execute_result"
    }
   ],
   "source": [
    "# Question 3: Remove element 3 from set {1, 2, 3, 4, 5, 6}\n",
    "c = {1, 2, 3, 4, 5, 6}\n",
    "c.remove(3)\n",
    "c"
   ]
  },
  {
   "cell_type": "code",
   "execution_count": 4,
   "metadata": {},
   "outputs": [
    {
     "data": {
      "text/plain": [
       "{4, 5}"
      ]
     },
     "execution_count": 4,
     "metadata": {},
     "output_type": "execute_result"
    }
   ],
   "source": [
    "# Question 4: Find the intersection of {1, 2, 3, 4, 5} and {4, 5, 6, 7, 8}\n",
    "m = {1, 2, 3, 4, 5}\n",
    "n = {4, 5, 6, 7, 8}\n",
    "m & n"
   ]
  },
  {
   "cell_type": "code",
   "execution_count": 5,
   "metadata": {},
   "outputs": [
    {
     "data": {
      "text/plain": [
       "{1, 2, 3}"
      ]
     },
     "execution_count": 5,
     "metadata": {},
     "output_type": "execute_result"
    }
   ],
   "source": [
    "# Question 5: Find the difference between {1, 2, 3, 4, 5} and {4, 5, 6, 7, 8}\n",
    "p = {1, 2, 3, 4, 5}\n",
    "q = {4, 5, 6, 7, 8}\n",
    "p.difference(q)"
   ]
  },
  {
   "cell_type": "code",
   "execution_count": 6,
   "id": "e11be21f",
   "metadata": {},
   "outputs": [
    {
     "name": "stdout",
     "output_type": "stream",
     "text": [
      "No it is not there\n"
     ]
    }
   ],
   "source": [
    "# Question 6: Check if 5 is in set {1, 2, 3, 4, 6, 7, 8}\n",
    "d = {1, 2, 3, 4, 6, 7, 8}\n",
    "if 5 in d:\n",
    "    print('Yes it is there')\n",
    "else:\n",
    "    print('No it is not there')"
   ]
  },
  {
   "cell_type": "code",
   "execution_count": 7,
   "metadata": {},
   "outputs": [
    {
     "data": {
      "text/plain": [
       "5"
      ]
     },
     "execution_count": 7,
     "metadata": {},
     "output_type": "execute_result"
    }
   ],
   "source": [
    "# Question 7: Find the length of set {'a', 'b', 'c', 'd', 'e'}\n",
    "e = {'a', 'b', 'c', 'd', 'e'}\n",
    "len(e)"
   ]
  },
  {
   "cell_type": "code",
   "execution_count": 8,
   "id": "005083bc",
   "metadata": {},
   "outputs": [
    {
     "name": "stdout",
     "output_type": "stream",
     "text": [
      "{'e', 'o'}\n"
     ]
    }
   ],
   "source": [
    "# Question 8: Create a set of vowels from string \"hello world\"\n",
    "f = \"hello world\"\n",
    "vow = {'a','e','i','o','u'}\n",
    "\n",
    "new = {i for i in f if i in vow}\n",
    "print(new)"
   ]
  },
  {
   "cell_type": "code",
   "execution_count": 9,
   "id": "70424d4c",
   "metadata": {},
   "outputs": [
    {
     "data": {
      "text/plain": [
       "{1, 2, 3, 4, 5, 6, 7}"
      ]
     },
     "execution_count": 9,
     "metadata": {},
     "output_type": "execute_result"
    }
   ],
   "source": [
    "# Question 9: Remove duplicates from list [1, 2, 2, 3, 4, 4, 5, 6, 6, 7] using set\n",
    "g = [1, 2, 2, 3, 4, 4, 5, 6, 6, 7]\n",
    "f = set(g)\n",
    "f"
   ]
  },
  {
   "cell_type": "code",
   "execution_count": 10,
   "id": "f7c0a461",
   "metadata": {},
   "outputs": [
    {
     "data": {
      "text/plain": [
       "True"
      ]
     },
     "execution_count": 10,
     "metadata": {},
     "output_type": "execute_result"
    }
   ],
   "source": [
    "# Question 10: Check if {1, 2, 3} is a subset of {1, 2, 3, 4, 5, 6}\n",
    "x = {1,2,3}\n",
    "y = {1,2,3,4,5,6}\n",
    "x.issubset(y)"
   ]
  }
 ],
 "metadata": {
  "kernelspec": {
   "display_name": "Python 3",
   "language": "python",
   "name": "python3"
  },
  "language_info": {
   "codemirror_mode": {
    "name": "ipython",
    "version": 3
   },
   "file_extension": ".py",
   "mimetype": "text/x-python",
   "name": "python",
   "nbconvert_exporter": "python",
   "pygments_lexer": "ipython3",
   "version": "3.13.5"
  }
 },
 "nbformat": 4,
 "nbformat_minor": 5
}
