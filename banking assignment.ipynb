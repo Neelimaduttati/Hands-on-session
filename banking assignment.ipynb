{
 "cells": [
  {
   "cell_type": "markdown",
   "id": "69a8d45e",
   "metadata": {},
   "source": [
    "Array Creation And Manipulation\n"
   ]
  },
  {
   "cell_type": "code",
   "execution_count": 2,
   "id": "54f2b755",
   "metadata": {},
   "outputs": [
    {
     "name": "stdout",
     "output_type": "stream",
     "text": [
      "[[1. 0. 0. 0.]\n",
      " [0. 1. 0. 0.]\n",
      " [0. 0. 1. 0.]\n",
      " [0. 0. 0. 1.]]\n"
     ]
    }
   ],
   "source": [
    "#Q1.1: Create a 4x4 identity matrix using np.eye()\n",
    "import numpy as np\n",
    "identity_matrix=np.eye(4)\n",
    "print(identity_matrix)"
   ]
  },
  {
   "cell_type": "code",
   "execution_count": 3,
   "id": "7b8804b8",
   "metadata": {},
   "outputs": [
    {
     "name": "stdout",
     "output_type": "stream",
     "text": [
      "[0. 0. 0. 0. 0. 0. 0. 0.]\n"
     ]
    }
   ],
   "source": [
    "#Q1.2: Create an array of 8 zeros using np.zeros()\n",
    "array_zeros = np.zeros(8)\n",
    "print(array_zeros)"
   ]
  },
  {
   "cell_type": "code",
   "execution_count": 4,
   "id": "471c9a10",
   "metadata": {},
   "outputs": [
    {
     "name": "stdout",
     "output_type": "stream",
     "text": [
      "[1. 1. 1. 1. 1. 1.]\n"
     ]
    }
   ],
   "source": [
    "#Q1.3: Create an array of 6 ones using np.ones()\n",
    "array_ones =np.ones(6)\n",
    "print(array_ones)"
   ]
  },
  {
   "cell_type": "code",
   "execution_count": 9,
   "id": "65dd59b7",
   "metadata": {},
   "outputs": [
    {
     "name": "stdout",
     "output_type": "stream",
     "text": [
      "[ 0  1  2  3  4  5  6  7  8  9 10 11 12 13 14 15]\n"
     ]
    }
   ],
   "source": [
    "#Q1.4: Create an array with values from 0 to 15 using np.arange()\n",
    "range_array =np.arange(16)\n",
    "print(range_array)"
   ]
  },
  {
   "cell_type": "code",
   "execution_count": 10,
   "id": "43bcf395",
   "metadata": {},
   "outputs": [
    {
     "name": "stdout",
     "output_type": "stream",
     "text": [
      "[  0.          14.28571429  28.57142857  42.85714286  57.14285714\n",
      "  71.42857143  85.71428571 100.        ]\n"
     ]
    }
   ],
   "source": [
    "#Q1.5: Create an array with 8 evenly spaced values from 0 to 100 using np.linspace()\n",
    "linspace_array=np.linspace(0,100,8)\n",
    "print(linspace_array)"
   ]
  },
  {
   "cell_type": "markdown",
   "id": "e24d26d8",
   "metadata": {},
   "source": [
    "Array Attributes And Information"
   ]
  },
  {
   "cell_type": "code",
   "execution_count": 11,
   "id": "b973d201",
   "metadata": {},
   "outputs": [
    {
     "name": "stdout",
     "output_type": "stream",
     "text": [
      "[[    1 25000   300  1200    10]\n",
      " [    2 12000   450   150     5]\n",
      " [    3 28000   380    46     8]\n",
      " [    4 41000   500   160    18]\n",
      " [    5 35000   420   400    12]\n",
      " [    6 27000   360    30     9]\n",
      " [    7 39000   480   700    18]\n",
      " [    8 30000   400   250    14]\n",
      " [    9 45000   420   800    20]\n",
      " [   10 23000   410    45     9]]\n"
     ]
    }
   ],
   "source": [
    "import numpy as np\n",
    "#[Customer_ID,Account_Balance,Credit_Score,Transaction_Count,Years_Active]\n",
    "banking_data = np.array([[ 1, 25000, 300, 1200, 10],\n",
    "    [2, 12000, 450, 150, 5],\n",
    "    [3, 28000, 380, 46, 8],\n",
    "    [4, 41000, 500, 160, 18],\n",
    "    [5, 35000, 420, 400, 12],\n",
    "    [6, 27000, 360, 30, 9],\n",
    "    [7, 39000, 480, 700, 18],\n",
    "    [8, 30000, 400, 250, 14],\n",
    "    [9, 45000, 420, 800, 20],\n",
    "    [10, 23000, 410, 45, 9]])\n",
    "\n",
    "print(banking_data)"
   ]
  },
  {
   "cell_type": "code",
   "execution_count": 14,
   "id": "9c58f3a1",
   "metadata": {},
   "outputs": [
    {
     "name": "stdout",
     "output_type": "stream",
     "text": [
      "shape: (10, 5)\n"
     ]
    }
   ],
   "source": [
    "#Q2.1: What is the shape of the banking_data array?\n",
    "print(f\"shape: {banking_data.shape}\")"
   ]
  },
  {
   "cell_type": "code",
   "execution_count": 15,
   "id": "70e9c317",
   "metadata": {},
   "outputs": [
    {
     "name": "stdout",
     "output_type": "stream",
     "text": [
      " data type: int64\n"
     ]
    }
   ],
   "source": [
    "#Q2.2: What is the data type of the banking_data array?\n",
    "print(f\" data type: {banking_data.dtype}\")"
   ]
  },
  {
   "cell_type": "code",
   "execution_count": 16,
   "id": "1c408ad3",
   "metadata": {},
   "outputs": [
    {
     "name": "stdout",
     "output_type": "stream",
     "text": [
      "sie: 50\n"
     ]
    }
   ],
   "source": [
    "#Q2.3: What is the size (total number of elements) of the banking_data array?\n",
    "print(f\"sie: {banking_data.size}\")"
   ]
  },
  {
   "cell_type": "code",
   "execution_count": null,
   "id": "d1779dd4",
   "metadata": {},
   "outputs": [
    {
     "name": "stdout",
     "output_type": "stream",
     "text": [
      "ndim: 2\n"
     ]
    }
   ],
   "source": [
    "#Q2.4: What is the number of dimensions of the banking_data array?\n",
    "print(f\"dim: {banking_data.ndim}\")"
   ]
  },
  {
   "cell_type": "code",
   "execution_count": 19,
   "id": "27c776a9",
   "metadata": {},
   "outputs": [
    {
     "name": "stdout",
     "output_type": "stream",
     "text": [
      "bytes: 400\n"
     ]
    }
   ],
   "source": [
    "#Q2.5: What is the memory size of the banking_data array in bytes?\n",
    "print(f\"bytes: {banking_data.nbytes}\")"
   ]
  },
  {
   "cell_type": "markdown",
   "id": "fa53475c",
   "metadata": {},
   "source": [
    "Indexing And Slicing"
   ]
  },
  {
   "cell_type": "code",
   "execution_count": null,
   "id": "f5bbc7ab",
   "metadata": {},
   "outputs": [],
   "source": []
  },
  {
   "cell_type": "code",
   "execution_count": null,
   "id": "0e6b9607",
   "metadata": {},
   "outputs": [],
   "source": []
  },
  {
   "cell_type": "code",
   "execution_count": null,
   "id": "f17270b5",
   "metadata": {},
   "outputs": [],
   "source": []
  },
  {
   "cell_type": "code",
   "execution_count": null,
   "id": "62337e63",
   "metadata": {},
   "outputs": [],
   "source": []
  }
 ],
 "metadata": {
  "kernelspec": {
   "display_name": "Python 3",
   "language": "python",
   "name": "python3"
  },
  "language_info": {
   "codemirror_mode": {
    "name": "ipython",
    "version": 3
   },
   "file_extension": ".py",
   "mimetype": "text/x-python",
   "name": "python",
   "nbconvert_exporter": "python",
   "pygments_lexer": "ipython3",
   "version": "3.13.5"
  }
 },
 "nbformat": 4,
 "nbformat_minor": 5
}
