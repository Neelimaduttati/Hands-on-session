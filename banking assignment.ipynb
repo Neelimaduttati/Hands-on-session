{
 "cells": [
  {
   "cell_type": "code",
   "execution_count": 3,
   "id": "01690a73",
   "metadata": {},
   "outputs": [],
   "source": [
    "import numpy as np\n",
    "import pandas as pd"
   ]
  },
  {
   "cell_type": "markdown",
   "id": "69a8d45e",
   "metadata": {},
   "source": [
    "Array Creation And Manipulation\n"
   ]
  },
  {
   "cell_type": "code",
   "execution_count": 4,
   "id": "54f2b755",
   "metadata": {},
   "outputs": [
    {
     "name": "stdout",
     "output_type": "stream",
     "text": [
      "[[1. 0. 0. 0.]\n",
      " [0. 1. 0. 0.]\n",
      " [0. 0. 1. 0.]\n",
      " [0. 0. 0. 1.]]\n"
     ]
    }
   ],
   "source": [
    "#Q1.1: Create a 4x4 identity matrix using np.eye()\n",
    "import numpy as np\n",
    "identity_matrix=np.eye(4)\n",
    "print(identity_matrix)"
   ]
  },
  {
   "cell_type": "code",
   "execution_count": 5,
   "id": "7b8804b8",
   "metadata": {},
   "outputs": [
    {
     "name": "stdout",
     "output_type": "stream",
     "text": [
      "[0. 0. 0. 0. 0. 0. 0. 0.]\n"
     ]
    }
   ],
   "source": [
    "#Q1.2: Create an array of 8 zeros using np.zeros()\n",
    "array_zeros = np.zeros(8)\n",
    "print(array_zeros)"
   ]
  },
  {
   "cell_type": "code",
   "execution_count": 6,
   "id": "471c9a10",
   "metadata": {},
   "outputs": [
    {
     "name": "stdout",
     "output_type": "stream",
     "text": [
      "[1. 1. 1. 1. 1. 1.]\n"
     ]
    }
   ],
   "source": [
    "#Q1.3: Create an array of 6 ones using np.ones()\n",
    "array_ones =np.ones(6)\n",
    "print(array_ones)"
   ]
  },
  {
   "cell_type": "code",
   "execution_count": 7,
   "id": "65dd59b7",
   "metadata": {},
   "outputs": [
    {
     "name": "stdout",
     "output_type": "stream",
     "text": [
      "[ 0  1  2  3  4  5  6  7  8  9 10 11 12 13 14 15]\n"
     ]
    }
   ],
   "source": [
    "#Q1.4: Create an array with values from 0 to 15 using np.arange()\n",
    "range_array =np.arange(16)\n",
    "print(range_array)"
   ]
  },
  {
   "cell_type": "code",
   "execution_count": 8,
   "id": "43bcf395",
   "metadata": {},
   "outputs": [
    {
     "name": "stdout",
     "output_type": "stream",
     "text": [
      "[  0.          14.28571429  28.57142857  42.85714286  57.14285714\n",
      "  71.42857143  85.71428571 100.        ]\n"
     ]
    }
   ],
   "source": [
    "#Q1.5: Create an array with 8 evenly spaced values from 0 to 100 using np.linspace()\n",
    "linspace_array=np.linspace(0,100,8)\n",
    "print(linspace_array)"
   ]
  },
  {
   "cell_type": "markdown",
   "id": "e24d26d8",
   "metadata": {},
   "source": [
    "Array Attributes And Information"
   ]
  },
  {
   "cell_type": "code",
   "execution_count": 9,
   "id": "b973d201",
   "metadata": {},
   "outputs": [
    {
     "name": "stdout",
     "output_type": "stream",
     "text": [
      "[[    1 25000   300  1200    10]\n",
      " [    2 12000   450   150     5]\n",
      " [    3 28000   380    46     8]\n",
      " [    4 41000   500   160    18]\n",
      " [    5 35000   420   400    12]\n",
      " [    6 27000   360    30     9]\n",
      " [    7 39000   480   700    18]\n",
      " [    8 30000   400   250    14]\n",
      " [    9 45000   420   800    20]\n",
      " [   10 23000   410    45     9]]\n"
     ]
    }
   ],
   "source": [
    "import numpy as np\n",
    "#[Customer_ID,Account_Balance,Credit_Score,Transaction_Count,Years_Active]\n",
    "banking_data = np.array([[ 1, 25000, 300, 1200, 10],\n",
    "    [2, 12000, 450, 150, 5],\n",
    "    [3, 28000, 380, 46, 8],\n",
    "    [4, 41000, 500, 160, 18],\n",
    "    [5, 35000, 420, 400, 12],\n",
    "    [6, 27000, 360, 30, 9],\n",
    "    [7, 39000, 480, 700, 18],\n",
    "    [8, 30000, 400, 250, 14],\n",
    "    [9, 45000, 420, 800, 20],\n",
    "    [10, 23000, 410, 45, 9]])\n",
    "\n",
    "print(banking_data)"
   ]
  },
  {
   "cell_type": "code",
   "execution_count": 10,
   "id": "9c58f3a1",
   "metadata": {},
   "outputs": [
    {
     "name": "stdout",
     "output_type": "stream",
     "text": [
      "shape: (10, 5)\n"
     ]
    }
   ],
   "source": [
    "#Q2.1: What is the shape of the banking_data array?\n",
    "print(f\"shape: {banking_data.shape}\")"
   ]
  },
  {
   "cell_type": "code",
   "execution_count": 11,
   "id": "70e9c317",
   "metadata": {},
   "outputs": [
    {
     "name": "stdout",
     "output_type": "stream",
     "text": [
      " data type: int64\n"
     ]
    }
   ],
   "source": [
    "#Q2.2: What is the data type of the banking_data array?\n",
    "print(f\" data type: {banking_data.dtype}\")"
   ]
  },
  {
   "cell_type": "code",
   "execution_count": 12,
   "id": "1c408ad3",
   "metadata": {},
   "outputs": [
    {
     "name": "stdout",
     "output_type": "stream",
     "text": [
      "sie: 50\n"
     ]
    }
   ],
   "source": [
    "#Q2.3: What is the size (total number of elements) of the banking_data array?\n",
    "print(f\"sie: {banking_data.size}\")"
   ]
  },
  {
   "cell_type": "code",
   "execution_count": 13,
   "id": "d1779dd4",
   "metadata": {},
   "outputs": [
    {
     "name": "stdout",
     "output_type": "stream",
     "text": [
      "dim: 2\n"
     ]
    }
   ],
   "source": [
    "#Q2.4: What is the number of dimensions of the banking_data array?\n",
    "print(f\"dim: {banking_data.ndim}\")"
   ]
  },
  {
   "cell_type": "code",
   "execution_count": 14,
   "id": "27c776a9",
   "metadata": {},
   "outputs": [
    {
     "name": "stdout",
     "output_type": "stream",
     "text": [
      "bytes: 400\n"
     ]
    }
   ],
   "source": [
    "#Q2.5: What is the memory size of the banking_data array in bytes?\n",
    "print(f\"bytes: {banking_data.nbytes}\")"
   ]
  },
  {
   "cell_type": "markdown",
   "id": "d97bfc0d",
   "metadata": {},
   "source": [
    "Indexing And Slicing"
   ]
  },
  {
   "cell_type": "code",
   "execution_count": 15,
   "id": "ee7d1eda",
   "metadata": {},
   "outputs": [
    {
     "name": "stdout",
     "output_type": "stream",
     "text": [
      "[    1 25000   300  1200    10]\n"
     ]
    }
   ],
   "source": [
    "import pandas as pd\n",
    "#Q3.1: Extract the first row of banking_data\n",
    "first_row = banking_data[0]\n",
    "print(first_row)"
   ]
  },
  {
   "cell_type": "code",
   "execution_count": 16,
   "id": "a006ba87",
   "metadata": {},
   "outputs": [
    {
     "name": "stdout",
     "output_type": "stream",
     "text": [
      "[   10 23000   410    45     9]\n"
     ]
    }
   ],
   "source": [
    "#Q3.2: Extract the last row of banking_data\n",
    "last_row = banking_data[-1]\n",
    "print(last_row)"
   ]
  },
  {
   "cell_type": "code",
   "execution_count": 17,
   "id": "b37de14a",
   "metadata": {},
   "outputs": [
    {
     "name": "stdout",
     "output_type": "stream",
     "text": [
      "[25000 12000 28000 41000 35000 27000 39000 30000 45000 23000]\n"
     ]
    }
   ],
   "source": [
    "#Q3.3: Extract the Account_Balance column (column index 1)\n",
    "column_index=banking_data[:,1]\n",
    "print(column_index)"
   ]
  },
  {
   "cell_type": "code",
   "execution_count": 18,
   "id": "fbaeea7a",
   "metadata": {},
   "outputs": [
    {
     "name": "stdout",
     "output_type": "stream",
     "text": [
      "[[    1 25000   300  1200]\n",
      " [    2 12000   450   150]\n",
      " [    3 28000   380    46]]\n"
     ]
    }
   ],
   "source": [
    "#Q3.4: Extract the first 4 rows and first 3 columns\n",
    "subset=banking_data[:3, :4]\n",
    "print(subset)"
   ]
  },
  {
   "cell_type": "code",
   "execution_count": 19,
   "id": "189531ce",
   "metadata": {},
   "outputs": [
    {
     "name": "stdout",
     "output_type": "stream",
     "text": [
      "[[    4 41000   500   160    18]\n",
      " [    5 35000   420   400    12]\n",
      " [    6 27000   360    30     9]\n",
      " [    7 39000   480   700    18]]\n"
     ]
    }
   ],
   "source": [
    "#Q3.5: Extract rows 3 to 7 (inclusive)\n",
    "row_3_to_7=banking_data[3:7]\n",
    "print(row_3_to_7)"
   ]
  },
  {
   "cell_type": "markdown",
   "id": "6082b4f2",
   "metadata": {},
   "source": [
    "Mathematical Operation"
   ]
  },
  {
   "cell_type": "code",
   "execution_count": 20,
   "id": "3f455f5d",
   "metadata": {},
   "outputs": [
    {
     "name": "stdout",
     "output_type": "stream",
     "text": [
      "305000\n"
     ]
    }
   ],
   "source": [
    "#Q4.1: Calculate the sum of all account balances\n",
    "total_balance=np.sum(banking_data[:,1])\n",
    "print(total_balance)\n",
    "                     "
   ]
  },
  {
   "cell_type": "code",
   "execution_count": 21,
   "id": "974794db",
   "metadata": {},
   "outputs": [
    {
     "name": "stdout",
     "output_type": "stream",
     "text": [
      "mean account :30500.0\n"
     ]
    }
   ],
   "source": [
    "#Q4.2: Calculate the mean account \n",
    "mean_account=np.mean(banking_data[:,1])\n",
    "print(f\"mean account :{mean_account}\")\n"
   ]
  },
  {
   "cell_type": "code",
   "execution_count": 22,
   "id": "ae3fdd78",
   "metadata": {},
   "outputs": [
    {
     "name": "stdout",
     "output_type": "stream",
     "text": [
      " standard deviation of account :9276.313923105448\n"
     ]
    }
   ],
   "source": [
    "#Q4.3: Calculate the standard deviation of account balances\n",
    "std_balance=np.std(banking_data[:,1])\n",
    "print(f\" standard deviation of account :{std_balance}\")"
   ]
  },
  {
   "cell_type": "code",
   "execution_count": 23,
   "id": "c6cb8262",
   "metadata": {},
   "outputs": [
    {
     "name": "stdout",
     "output_type": "stream",
     "text": [
      "variance of account :86050000.0\n"
     ]
    }
   ],
   "source": [
    "#Q4.4: Calculate the variance of account balances\n",
    "var_balance=np.var(banking_data[:,1])\n",
    "print(f\"variance of account :{var_balance}\")"
   ]
  },
  {
   "cell_type": "code",
   "execution_count": 24,
   "id": "e6fe455c",
   "metadata": {},
   "outputs": [
    {
     "name": "stdout",
     "output_type": "stream",
     "text": [
      "median account :29000.0\n"
     ]
    }
   ],
   "source": [
    "#Q4.5: Calculate the median account balance\n",
    "med_account=np.median(banking_data[:,1])\n",
    "print(f\"median account :{med_account}\")"
   ]
  },
  {
   "cell_type": "markdown",
   "id": "09c0234e",
   "metadata": {},
   "source": [
    "Statistical Functions"
   ]
  },
  {
   "cell_type": "code",
   "execution_count": 25,
   "id": "3cfc52cd",
   "metadata": {},
   "outputs": [
    {
     "name": "stdout",
     "output_type": "stream",
     "text": [
      "minimum : 12000\n",
      "maximum : 45000\n"
     ]
    }
   ],
   "source": [
    "#Q5.1: Find the minimum and maximum account balances\n",
    "min_balance= np.min(banking_data[:,1])\n",
    "max_balance=np.max(banking_data[:,1])\n",
    "print(f\"minimum : {min_balance}\")\n",
    "print(f\"maximum : {max_balance}\")"
   ]
  },
  {
   "cell_type": "code",
   "execution_count": 26,
   "id": "9153b53c",
   "metadata": {},
   "outputs": [
    {
     "name": "stdout",
     "output_type": "stream",
     "text": [
      " minimum credits :300\n",
      " maximum credits :500\n"
     ]
    }
   ],
   "source": [
    "#Q5.2: Find the minimum and maximum credit scores\n",
    "min_scores=np.min(banking_data[:,2])\n",
    "max_scores=np.max(banking_data[:,2])\n",
    "print(f\" minimum credits :{min_scores}\")\n",
    "print(f\" maximum credits :{max_scores}\")"
   ]
  },
  {
   "cell_type": "code",
   "execution_count": 27,
   "id": "826f3d49",
   "metadata": {},
   "outputs": [
    {
     "name": "stdout",
     "output_type": "stream",
     "text": [
      "+25th percentile : 25500.0\n",
      "+50th percentile : 29000.0\n",
      "+75th percentile : 38000.0\n"
     ]
    }
   ],
   "source": [
    "#Q5.3: Calculate the percentile values for account balances (25th, 50th, 75th)\n",
    "percentile = np.percentile(banking_data[:,1],[25,50,75])\n",
    "print(f\"+25th percentile : {percentile[0]}\")\n",
    "print(f\"+50th percentile : {percentile[1]}\")\n",
    "print(f\"+75th percentile : {percentile[2]}\")"
   ]
  },
  {
   "cell_type": "code",
   "execution_count": 28,
   "id": "79b9dbde",
   "metadata": {},
   "outputs": [
    {
     "name": "stdout",
     "output_type": "stream",
     "text": [
      "correlation :0.31433420336741874\n"
     ]
    }
   ],
   "source": [
    "#Q5.4: Calculate the correlation between account balance and credit score\n",
    "correlation = np.corrcoef(banking_data[:,1],banking_data[:,3])[0,1]\n",
    "print(f\"correlation :{correlation}\")"
   ]
  },
  {
   "cell_type": "code",
   "execution_count": 29,
   "id": "12aa5d61",
   "metadata": {},
   "outputs": [
    {
     "name": "stdout",
     "output_type": "stream",
     "text": [
      "covariance :1219166.6666666665\n"
     ]
    }
   ],
   "source": [
    "#Q5.5: Calculate the covariance between account balance and credit score\n",
    "covariance = np.cov(banking_data[:,1],banking_data[:,3])[0,1]\n",
    "print(f\"covariance :{covariance}\")"
   ]
  },
  {
   "cell_type": "markdown",
   "id": "eef68111",
   "metadata": {},
   "source": [
    "Array Reshaping And Manipulation"
   ]
  },
  {
   "cell_type": "code",
   "execution_count": 30,
   "id": "7aa19e57",
   "metadata": {},
   "outputs": [
    {
     "name": "stdout",
     "output_type": "stream",
     "text": [
      "[[    1 25000   300  1200    10     2 12000   450   150     5]\n",
      " [    3 28000   380    46     8     4 41000   500   160    18]\n",
      " [    5 35000   420   400    12     6 27000   360    30     9]\n",
      " [    7 39000   480   700    18     8 30000   400   250    14]\n",
      " [    9 45000   420   800    20    10 23000   410    45     9]]\n"
     ]
    }
   ],
   "source": [
    "#Q6.1: Reshape the banking_data to 5 rows × 10 columns\n",
    "reshaped_5x10=banking_data.reshape(5,10)\n",
    "print(reshaped_5x10)\n",
    "                                "
   ]
  },
  {
   "cell_type": "code",
   "execution_count": 31,
   "id": "6dde9265",
   "metadata": {},
   "outputs": [
    {
     "name": "stdout",
     "output_type": "stream",
     "text": [
      "[    1 25000   300  1200    10     2 12000   450   150     5     3 28000\n",
      "   380    46     8     4 41000   500   160    18     5 35000   420   400\n",
      "    12     6 27000   360    30     9     7 39000   480   700    18     8\n",
      " 30000   400   250    14     9 45000   420   800    20    10 23000   410\n",
      "    45     9]\n"
     ]
    }
   ],
   "source": [
    "#Q6.2: Flatten the banking_data to a 1D array\n",
    "flattened = banking_data.flatten()\n",
    "print(flattened)"
   ]
  },
  {
   "cell_type": "code",
   "execution_count": 32,
   "id": "8eae6478",
   "metadata": {},
   "outputs": [
    {
     "name": "stdout",
     "output_type": "stream",
     "text": [
      "[[    1     2     3     4     5     6     7     8     9    10]\n",
      " [25000 12000 28000 41000 35000 27000 39000 30000 45000 23000]\n",
      " [  300   450   380   500   420   360   480   400   420   410]\n",
      " [ 1200   150    46   160   400    30   700   250   800    45]\n",
      " [   10     5     8    18    12     9    18    14    20     9]]\n"
     ]
    }
   ],
   "source": [
    "#Q6.3: Transpose the banking_data\n",
    "transposed = banking_data.transpose()\n",
    "print(transposed)"
   ]
  },
  {
   "cell_type": "code",
   "execution_count": 33,
   "id": "8ebfdba3",
   "metadata": {},
   "outputs": [
    {
     "name": "stdout",
     "output_type": "stream",
     "text": [
      "first part:[[    1 25000   300  1200    10]\n",
      " [    2 12000   450   150     5]\n",
      " [    3 28000   380    46     8]\n",
      " [    4 41000   500   160    18]\n",
      " [    5 35000   420   400    12]]\n",
      "second part:[[    6 27000   360    30     9]\n",
      " [    7 39000   480   700    18]\n",
      " [    8 30000   400   250    14]\n",
      " [    9 45000   420   800    20]\n",
      " [   10 23000   410    45     9]]\n"
     ]
    }
   ],
   "source": [
    "#Q6.4: Split the banking_data into 2 equal parts vertically\n",
    "split_vertical=np.vsplit (banking_data,2)\n",
    "print(f\"first part:{split_vertical[0]}\")\n",
    "print(f\"second part:{split_vertical[1]}\")"
   ]
  },
  {
   "cell_type": "code",
   "execution_count": 34,
   "id": "859fefa2",
   "metadata": {},
   "outputs": [
    {
     "name": "stdout",
     "output_type": "stream",
     "text": [
      "first_part:[[    1 25000   300]\n",
      " [    2 12000   450]\n",
      " [    3 28000   380]\n",
      " [    4 41000   500]\n",
      " [    5 35000   420]\n",
      " [    6 27000   360]\n",
      " [    7 39000   480]\n",
      " [    8 30000   400]\n",
      " [    9 45000   420]\n",
      " [   10 23000   410]]\n",
      "second_part:[[1200   10]\n",
      " [ 150    5]\n",
      " [  46    8]\n",
      " [ 160   18]\n",
      " [ 400   12]\n",
      " [  30    9]\n",
      " [ 700   18]\n",
      " [ 250   14]\n",
      " [ 800   20]\n",
      " [  45    9]]\n"
     ]
    }
   ],
   "source": [
    "#Q6.5: Split the banking_data into 2 equal parts horizontally\n",
    "split_horizontal=np.hsplit(banking_data,2.5)\n",
    "print(f\"first_part:{split_horizontal[0]}\")\n",
    "print(f\"second_part:{split_horizontal[1]}\")"
   ]
  },
  {
   "cell_type": "markdown",
   "id": "5f1ece5c",
   "metadata": {},
   "source": [
    "Logical operations and Filtering"
   ]
  },
  {
   "cell_type": "code",
   "execution_count": 35,
   "id": "741b8975",
   "metadata": {},
   "outputs": [
    {
     "name": "stdout",
     "output_type": "stream",
     "text": [
      "(array([ True,  True,  True,  True,  True,  True,  True,  True,  True,\n",
      "        True]), 0)\n"
     ]
    }
   ],
   "source": [
    "#Q7.1: Find customers with account balance greater than $100,000\n",
    "high_balance_customers = banking_data[:, 1] > 100,000\n",
    "print(high_balance_customers)"
   ]
  },
  {
   "cell_type": "code",
   "execution_count": 36,
   "id": "bb209907",
   "metadata": {},
   "outputs": [
    {
     "data": {
      "text/plain": [
       "array([False, False, False, False, False, False, False, False, False,\n",
       "       False])"
      ]
     },
     "execution_count": 36,
     "metadata": {},
     "output_type": "execute_result"
    }
   ],
   "source": [
    "#Q7.2: Find customers with credit score greater than 800\n",
    "banking_data[:,2]>800"
   ]
  },
  {
   "cell_type": "code",
   "execution_count": 37,
   "id": "30ca8d15",
   "metadata": {},
   "outputs": [
    {
     "data": {
      "text/plain": [
       "array([[    1, 25000,   300,  1200,    10],\n",
       "       [    2, 12000,   450,   150,     5],\n",
       "       [    4, 41000,   500,   160,    18],\n",
       "       [    5, 35000,   420,   400,    12],\n",
       "       [    7, 39000,   480,   700,    18],\n",
       "       [    8, 30000,   400,   250,    14],\n",
       "       [    9, 45000,   420,   800,    20]])"
      ]
     },
     "execution_count": 37,
     "metadata": {},
     "output_type": "execute_result"
    }
   ],
   "source": [
    "#Q7.3: Find customers with transaction count greater than 50 AND credit score less than 750\n",
    "banking_data[(banking_data[:, 3] > 50) & (banking_data[:, 2] < 750)]"
   ]
  },
  {
   "cell_type": "code",
   "execution_count": 38,
   "id": "2f4b7c51",
   "metadata": {},
   "outputs": [
    {
     "name": "stdout",
     "output_type": "stream",
     "text": [
      "10\n"
     ]
    }
   ],
   "source": [
    "#Q7.4: Count how many customers have account balance between $10,000 and $100,000\n",
    "data = np.sum((banking_data[:,1] >= 10000) & (banking_data[:,1] <= 100000))\n",
    "print(data)"
   ]
  },
  {
   "cell_type": "code",
   "execution_count": 39,
   "id": "f64a31b0",
   "metadata": {},
   "outputs": [
    {
     "name": "stdout",
     "output_type": "stream",
     "text": [
      "4\n"
     ]
    }
   ],
   "source": [
    "#Q7.5: Find the index of the customer with the highest credit score\n",
    "customer = np.argmax(banking_data[:, 2])+1\n",
    "print(customer)"
   ]
  },
  {
   "cell_type": "markdown",
   "id": "bc32bd4b",
   "metadata": {},
   "source": [
    "Sorting and Searching"
   ]
  },
  {
   "cell_type": "code",
   "execution_count": 40,
   "id": "821cbaaf",
   "metadata": {},
   "outputs": [
    {
     "data": {
      "text/plain": [
       "array([[    2, 12000,   450,   150,     5],\n",
       "       [   10, 23000,   410,    45,     9],\n",
       "       [    1, 25000,   300,  1200,    10],\n",
       "       [    6, 27000,   360,    30,     9],\n",
       "       [    3, 28000,   380,    46,     8],\n",
       "       [    8, 30000,   400,   250,    14],\n",
       "       [    5, 35000,   420,   400,    12],\n",
       "       [    7, 39000,   480,   700,    18],\n",
       "       [    4, 41000,   500,   160,    18],\n",
       "       [    9, 45000,   420,   800,    20]])"
      ]
     },
     "execution_count": 40,
     "metadata": {},
     "output_type": "execute_result"
    }
   ],
   "source": [
    "#Q8.1: Sort the banking_data by account balance (ascending)\n",
    "sorted_by_account=banking_data[banking_data[:,1].argsort()]\n",
    "sorted_by_account"
   ]
  },
  {
   "cell_type": "code",
   "execution_count": 41,
   "id": "f6eeeac7",
   "metadata": {},
   "outputs": [
    {
     "name": "stdout",
     "output_type": "stream",
     "text": [
      "[[    1 25000   300  1200    10]\n",
      " [    9 45000   420   800    20]\n",
      " [    7 39000   480   700    18]\n",
      " [    5 35000   420   400    12]\n",
      " [    8 30000   400   250    14]\n",
      " [    4 41000   500   160    18]\n",
      " [    2 12000   450   150     5]\n",
      " [    3 28000   380    46     8]\n",
      " [   10 23000   410    45     9]\n",
      " [    6 27000   360    30     9]]\n"
     ]
    }
   ],
   "source": [
    "#Q8.2: Sort the banking_data by credit score (descending)\n",
    "data = banking_data[np.argsort(banking_data[:,3])[::-1]]\n",
    "print(data)"
   ]
  },
  {
   "cell_type": "code",
   "execution_count": 42,
   "id": "117f69d3",
   "metadata": {},
   "outputs": [
    {
     "name": "stdout",
     "output_type": "stream",
     "text": [
      "[1 2 5 9 0 4 7 3 6 8]\n"
     ]
    }
   ],
   "source": [
    "#Q8.3: Find the indices that would sort the array by years active\n",
    "active_indices= np.argsort(banking_data[:,4])\n",
    "print(active_indices)"
   ]
  },
  {
   "cell_type": "code",
   "execution_count": 43,
   "id": "a547d3ac",
   "metadata": {},
   "outputs": [
    {
     "name": "stdout",
     "output_type": "stream",
     "text": [
      "Customer ID: 4, Account Balance: 41000\n"
     ]
    }
   ],
   "source": [
    "#Q8.4: Find the customer with the second highest account balance\n",
    "second_highest_account = np.argsort(banking_data[:,1])[-2]\n",
    "second_highest_account = banking_data[second_highest_account]\n",
    "print(f\"Customer ID: {int(second_highest_account[0])}, Account Balance: {int(second_highest_account[1])}\")"
   ]
  },
  {
   "cell_type": "code",
   "execution_count": 44,
   "id": "d3d03120",
   "metadata": {},
   "outputs": [
    {
     "name": "stdout",
     "output_type": "stream",
     "text": [
      "Customer ID: 6, Transaction Count: 30\n"
     ]
    }
   ],
   "source": [
    "#Q8.5: Find the customer with the lowest transaction count\n",
    "lowest_transaction = np.argmin(banking_data[:, 3])\n",
    "lowest_transaction = banking_data[lowest_transaction]\n",
    "print(f\"Customer ID: {int(lowest_transaction [0])}, Transaction Count: {int(lowest_transaction [3])}\")"
   ]
  },
  {
   "cell_type": "markdown",
   "id": "17ea8551",
   "metadata": {},
   "source": [
    "Mathematical Functions"
   ]
  },
  {
   "cell_type": "code",
   "execution_count": 45,
   "id": "72acd558",
   "metadata": {},
   "outputs": [
    {
     "name": "stdout",
     "output_type": "stream",
     "text": [
      "[[    1 25000   300  1200    10]\n",
      " [    2 12000   450   150     5]\n",
      " [    3 28000   380    46     8]\n",
      " [    4 41000   500   160    18]\n",
      " [    5 35000   420   400    12]\n",
      " [    6 27000   360    30     9]\n",
      " [    7 39000   480   700    18]\n",
      " [    8 30000   400   250    14]\n",
      " [    9 45000   420   800    20]\n",
      " [   10 23000   410    45     9]]\n"
     ]
    }
   ],
   "source": [
    "#Q9.1: Calculate the absolute values of all elements\n",
    "absolute_values = np.abs(banking_data)\n",
    "print(absolute_values)"
   ]
  },
  {
   "cell_type": "code",
   "execution_count": 46,
   "id": "581fa379",
   "metadata": {},
   "outputs": [
    {
     "name": "stdout",
     "output_type": "stream",
     "text": [
      "[17.32050808 21.21320344 19.49358869 22.36067977 20.49390153 18.97366596\n",
      " 21.9089023  20.         20.49390153 20.24845673]\n"
     ]
    }
   ],
   "source": [
    "#Q9.2: Calculate the square root of all account balances\n",
    "sqrt_account= np.sqrt(banking_data[:,2])\n",
    "print(sqrt_account)"
   ]
  },
  {
   "cell_type": "code",
   "execution_count": 47,
   "metadata": {},
   "outputs": [
    {
     "name": "stdout",
     "output_type": "stream",
     "text": [
      "[ 90000 202500 144400 250000 176400 129600 230400 160000 176400 168100]\n"
     ]
    }
   ],
   "source": [
    "#Q9.3: Calculate the square of all credit scores\n",
    "credit_scores=np.square(banking_data[:,2])\n",
    "print(credit_scores)"
   ]
  },
  {
   "cell_type": "code",
   "execution_count": 48,
   "id": "0dea6558",
   "metadata": {},
   "outputs": [
    {
     "name": "stdout",
     "output_type": "stream",
     "text": [
      "[[    1 25000   300  1200    10]\n",
      " [    2 12000   450   150     5]\n",
      " [    3 28000   380    46     8]\n",
      " [    4 41000   500   160    18]\n",
      " [    5 35000   420   400    12]\n",
      " [    6 27000   360    30     9]\n",
      " [    7 39000   480   700    18]\n",
      " [    8 30000   400   250    14]\n",
      " [    9 45000   420   800    20]\n",
      " [   10 23000   410    45     9]]\n"
     ]
    },
    {
     "name": "stderr",
     "output_type": "stream",
     "text": [
      "C:\\Users\\dell\\AppData\\Local\\Temp\\ipykernel_14020\\2203053695.py:16: RuntimeWarning: overflow encountered in exp\n",
      "  np.exp(banking_data[:, 3])\n"
     ]
    },
    {
     "data": {
      "text/plain": [
       "array([            inf, 1.39370958e+065, 9.49611942e+019, 3.06984964e+069,\n",
       "       5.22146969e+173, 1.06864746e+013, 1.01423205e+304, 3.74645461e+108,\n",
       "                   inf, 3.49342711e+019])"
      ]
     },
     "execution_count": 48,
     "metadata": {},
     "output_type": "execute_result"
    }
   ],
   "source": [
    "#Q9.4: Calculate the exponential of all transaction counts\n",
    "import numpy as np\n",
    "banking_data = np.array([\n",
    "    [ 1, 25000, 300, 1200, 10],\n",
    "    [2, 12000, 450, 150, 5],\n",
    "    [3, 28000, 380, 46, 8],\n",
    "    [4, 41000, 500, 160, 18],\n",
    "    [5, 35000, 420, 400, 12],\n",
    "    [6, 27000, 360, 30, 9],\n",
    "    [7, 39000, 480, 700, 18],\n",
    "    [8, 30000, 400, 250, 14],\n",
    "    [9, 45000, 420, 800, 20],\n",
    "    [10, 23000, 410, 45, 9]])\n",
    "\n",
    "print(banking_data)\n",
    "np.exp(banking_data[:, 3])"
   ]
  },
  {
   "cell_type": "code",
   "execution_count": 49,
   "id": "892997f6",
   "metadata": {},
   "outputs": [
    {
     "name": "stdout",
     "output_type": "stream",
     "text": [
      "[10.1266311   9.39266193 10.23995979 10.62132735 10.46310334 10.20359214\n",
      " 10.57131693 10.30895266 10.71441777 10.04324949]\n"
     ]
    }
   ],
   "source": [
    "#Q9.5: Calculate the natural logarithm of all account balances\n",
    "logarithm= np.log(banking_data[:,1])\n",
    "print(logarithm)"
   ]
  },
  {
   "cell_type": "markdown",
   "id": "a131d870",
   "metadata": {},
   "source": [
    "Advanced Operations"
   ]
  },
  {
   "cell_type": "code",
   "execution_count": 50,
   "id": "d7ccb75b",
   "metadata": {},
   "outputs": [
    {
     "name": "stdout",
     "output_type": "stream",
     "text": [
      "305000\n"
     ]
    }
   ],
   "source": [
    "#Q10.1: Calculate the cumulative sum of account balances\n",
    "cummulative=np.sum(banking_data[:,1])\n",
    "print(cummulative)"
   ]
  },
  {
   "cell_type": "code",
   "execution_count": 51,
   "id": "950961e6",
   "metadata": {},
   "outputs": [
    {
     "name": "stdout",
     "output_type": "stream",
     "text": [
      "[                1200               180000              8280000\n",
      "           1324800000         529920000000       15897600000000\n",
      "    11128320000000000  2782080000000000000 -6392032918855745536\n",
      "  7506423830844276736]\n"
     ]
    }
   ],
   "source": [
    "#Q10.2: Calculate the cumulative product of transaction counts\n",
    "cumprod_transaction=np.cumprod(banking_data[:,3])\n",
    "print(cumprod_transaction)"
   ]
  },
  {
   "cell_type": "markdown",
   "id": "ddd2126f",
   "metadata": {},
   "source": [
    "Q10.3: Calculate the difference between consecutive account balances"
   ]
  },
  {
   "cell_type": "markdown",
   "id": "c3636a58",
   "metadata": {},
   "source": [
    "diff_account = np.diff(banking_data[:, 1]) print(diff_account)"
   ]
  },
  {
   "cell_type": "code",
   "execution_count": 52,
   "id": "4c58337c",
   "metadata": {},
   "outputs": [
    {
     "name": "stdout",
     "output_type": "stream",
     "text": [
      "[-13000.   1500.  14500.   3500.  -7000.   2000.   1500.   3000.  -3500.\n",
      " -22000.]\n"
     ]
    }
   ],
   "source": [
    "#Q10.4: Calculate the gradient of account balances\n",
    "gradient_account= np.gradient(banking_data[:,1])\n",
    "print(gradient_account)"
   ]
  },
  {
   "cell_type": "code",
   "execution_count": 53,
   "id": "b67e40d1",
   "metadata": {},
   "outputs": [
    {
     "name": "stdout",
     "output_type": "stream",
     "text": [
      "histogram : [1 2 3 1 3]\n",
      "bin_edges : [12000. 18600. 25200. 31800. 38400. 45000.]\n"
     ]
    }
   ],
   "source": [
    "#Q10.5: Calculate the histogram of account balances with 5 bins\n",
    "hist_account ,bin_edges=np.histogram(banking_data[:,1],bins=5)\n",
    "print(f\"histogram : {hist_account}\")\n",
    "print(f\"bin_edges : {bin_edges}\")"
   ]
  },
  {
   "cell_type": "markdown",
   "id": "766e6b83",
   "metadata": {},
   "source": [
    "Random Numbers and Simulation"
   ]
  },
  {
   "cell_type": "code",
   "execution_count": 54,
   "id": "cb189c3f",
   "metadata": {},
   "outputs": [
    {
     "name": "stdout",
     "output_type": "stream",
     "text": [
      "[148 265 104  53 448 222]\n"
     ]
    }
   ],
   "source": [
    "#Q11.1: Generate 6 random integers between 1 and 1000\n",
    "random_int = np.random.randint(1,1001,6)\n",
    "print(random_int)"
   ]
  },
  {
   "cell_type": "code",
   "execution_count": 55,
   "id": "205de0f8",
   "metadata": {},
   "outputs": [
    {
     "name": "stdout",
     "output_type": "stream",
     "text": [
      "[0.87901803 0.21835113 0.91966679 0.69375127 0.71565528 0.82254715]\n"
     ]
    }
   ],
   "source": [
    "#Q11.2: Generate 6 random floats between 0 and 1\n",
    "random_floats = np.random.random(6)\n",
    "print(random_floats)"
   ]
  },
  {
   "cell_type": "code",
   "execution_count": 56,
   "id": "40c281cd",
   "metadata": {},
   "outputs": [
    {
     "name": "stdout",
     "output_type": "stream",
     "text": [
      "[624.54694465 519.11924421 935.15712845 754.90627323 701.64070332\n",
      " 606.2291375 ]\n"
     ]
    }
   ],
   "source": [
    "#Q11.3: Generate 6 random numbers from normal distribution (mean=700, std=100) normal_random = np.random.normal(700,100,6) print(normal_random)\n",
    "normal_random = np.random.normal(700,100,6)\n",
    "print(normal_random)\n"
   ]
  },
  {
   "cell_type": "code",
   "execution_count": 57,
   "metadata": {},
   "outputs": [
    {
     "name": "stdout",
     "output_type": "stream",
     "text": [
      "[[   10 23000   410    45     9]\n",
      " [    9 45000   420   800    20]\n",
      " [    6 27000   360    30     9]\n",
      " [    5 35000   420   400    12]\n",
      " [    2 12000   450   150     5]\n",
      " [    7 39000   480   700    18]\n",
      " [    3 28000   380    46     8]\n",
      " [    4 41000   500   160    18]\n",
      " [    8 30000   400   250    14]\n",
      " [    1 25000   300  1200    10]]\n"
     ]
    }
   ],
   "source": [
    "#Q11.4: Shuffle the banking_data rows randomly\n",
    "shuffled_data = banking_data.copy()\n",
    "np.random.shuffle(shuffled_data)\n",
    "print(shuffled_data)"
   ]
  },
  {
   "cell_type": "code",
   "execution_count": 58,
   "id": "5a10ef88",
   "metadata": {},
   "outputs": [
    {
     "name": "stdout",
     "output_type": "stream",
     "text": [
      "[0.69646919 0.28613933 0.22685145 0.55131477]\n"
     ]
    }
   ],
   "source": [
    "#Q11.5: Set random seed to 123 and generate 4 random numbers\n",
    "np.random.seed(123)\n",
    "seeded_random = np.random.random(4)\n",
    "print(seeded_random)"
   ]
  },
  {
   "cell_type": "markdown",
   "id": "7d2c7597",
   "metadata": {},
   "source": [
    "Linear Algebra Operations"
   ]
  },
  {
   "cell_type": "code",
   "execution_count": 59,
   "id": "7b8be28d",
   "metadata": {},
   "outputs": [
    {
     "name": "stdout",
     "output_type": "stream",
     "text": [
      "dot product : 127510000\n"
     ]
    }
   ],
   "source": [
    "#Q12.1: Calculate the dot product of account balance and credit score columns\n",
    "dot_product=np.dot(banking_data[:,1],banking_data[:,2])\n",
    "print(f\"dot product : {dot_product}\")"
   ]
  },
  {
   "cell_type": "code",
   "execution_count": 60,
   "id": "f26816dd",
   "metadata": {},
   "outputs": [
    {
     "name": "stdout",
     "output_type": "stream",
     "text": [
      "[7650000     150  -38000]\n"
     ]
    }
   ],
   "source": [
    "#Q12.2: Calculate the cross product of first two rows\n",
    "cross_product=np.cross(banking_data[0,:3],banking_data[1,:3])\n",
    "print(cross_product)"
   ]
  },
  {
   "cell_type": "code",
   "execution_count": 61,
   "id": "d0d1028f",
   "metadata": {},
   "outputs": [
    {
     "name": "stdout",
     "output_type": "stream",
     "text": [
      "100811.70566953026\n"
     ]
    }
   ],
   "source": [
    "#Q12.3: Calculate the norm (magnitude) of the account balance column\n",
    "account_norm =np.linalg.norm(banking_data[:,1])\n",
    "print(account_norm)"
   ]
  },
  {
   "cell_type": "code",
   "execution_count": 62,
   "id": "8016d130",
   "metadata": {},
   "outputs": [
    {
     "name": "stdout",
     "output_type": "stream",
     "text": [
      "Matrix :\n",
      "[[ 2  5  3]\n",
      " [ 1 -2  9]\n",
      " [ 3  6  2]]\n",
      "determinant : 44.99999999999999\n"
     ]
    }
   ],
   "source": [
    "#Q12.4: Create a 3x3 matrix and calculate its determinant\n",
    "matrix_3x3 = np.array([ \n",
    "    [2, 5, 3],\n",
    "    [1, -2, 9],\n",
    "    [3, 6, 2]\n",
    "])\n",
    "determinant = np.linalg.det(matrix_3x3)\n",
    "print(f\"Matrix :\\n{matrix_3x3}\")\n",
    "print(f\"determinant : {determinant}\")"
   ]
  },
  {
   "cell_type": "code",
   "execution_count": 63,
   "id": "508b4191",
   "metadata": {},
   "outputs": [
    {
     "name": "stdout",
     "output_type": "stream",
     "text": [
      "[[-1.28888889  0.17777778  1.13333333]\n",
      " [ 0.55555556 -0.11111111 -0.33333333]\n",
      " [ 0.26666667  0.06666667 -0.2       ]]\n"
     ]
    }
   ],
   "source": [
    "#Q12.5: Calculate the inverse of the 3x3 matrix\n",
    "inverse_matrix = np.linalg.inv(matrix_3x3)\n",
    "print(inverse_matrix)"
   ]
  },
  {
   "cell_type": "markdown",
   "id": "80ff0bc9",
   "metadata": {},
   "source": [
    "String Operations"
   ]
  },
  {
   "cell_type": "code",
   "execution_count": 64,
   "id": "47161e9d",
   "metadata": {},
   "outputs": [
    {
     "name": "stdout",
     "output_type": "stream",
     "text": [
      "['1' '2' '3' '4' '5' '6' '7' '8' '9' '10']\n"
     ]
    }
   ],
   "source": [
    "#Q13.1: Convert all customer IDs to strings\n",
    "customer_IDs_str = banking_data[:, 0].astype(str)  #stringarrayusing.astype()\n",
    "print(customer_IDs_str)"
   ]
  },
  {
   "cell_type": "code",
   "execution_count": 65,
   "id": "d7384c59",
   "metadata": {},
   "outputs": [
    {
     "name": "stdout",
     "output_type": "stream",
     "text": [
      "[False False False False False False False False False False]\n"
     ]
    }
   ],
   "source": [
    "#Q13.2: Check if any customer ID contains '100'\n",
    "customer_100 = np.char.find(customer_IDs_str, '100') >= 0\n",
    "print(customer_100)"
   ]
  },
  {
   "cell_type": "code",
   "execution_count": 66,
   "id": "ecc8cf14",
   "metadata": {},
   "outputs": [
    {
     "name": "stdout",
     "output_type": "stream",
     "text": [
      "['1' '2' '3' '4' '5' '6' '7' '8' '9' '10']\n"
     ]
    }
   ],
   "source": [
    "#Q13.3: Convert all customer IDs to uppercase (if they were strings)\n",
    "customer_IDs_upper = np.char.upper(customer_IDs_str)\n",
    "print(customer_IDs_upper)"
   ]
  },
  {
   "cell_type": "code",
   "execution_count": 67,
   "id": "82a42b02",
   "metadata": {},
   "outputs": [
    {
     "name": "stdout",
     "output_type": "stream",
     "text": [
      "[1 1 1 1 1 1 1 1 1 2]\n"
     ]
    }
   ],
   "source": [
    "#Q13.4: Count the length of each customer ID string\n",
    "Id_length = np.char.str_len(customer_IDs_str)\n",
    "print(Id_length)"
   ]
  },
  {
   "cell_type": "code",
   "execution_count": 68,
   "id": "240856bb",
   "metadata": {},
   "outputs": [
    {
     "name": "stdout",
     "output_type": "stream",
     "text": [
      "['1' '2' '3' '4' '5' '6' '7' '8' '9' '10']\n"
     ]
    }
   ],
   "source": [
    "#Q13.5: Replace '100' with 'CUST' in customer IDs\n",
    "replaced_Ids = np.char.replace(customer_IDs_str, '100', 'CUST')\n",
    "print(replaced_Ids)"
   ]
  },
  {
   "cell_type": "markdown",
   "id": "ca3c381d",
   "metadata": {},
   "source": [
    "Date and Time Operations"
   ]
  },
  {
   "cell_type": "code",
   "execution_count": 69,
   "id": "c9f3d664",
   "metadata": {},
   "outputs": [
    {
     "name": "stdout",
     "output_type": "stream",
     "text": [
      "[120  60  96 216 144 108 216 168 240 108]\n"
     ]
    }
   ],
   "source": [
    " #Q14.1: Convert years active to months\n",
    "years_active=banking_data[:,4]*12\n",
    "print(years_active)"
   ]
  },
  {
   "cell_type": "code",
   "execution_count": 70,
   "id": "217520f8",
   "metadata": {},
   "outputs": [
    {
     "name": "stdout",
     "output_type": "stream",
     "text": [
      "average years :12.3\n"
     ]
    }
   ],
   "source": [
    "#Q14.2: Calculate the average years active\n",
    "average_years=np.mean(banking_data[:,4])\n",
    "print(f\"average years :{average_years}\")"
   ]
  },
  {
   "cell_type": "code",
   "execution_count": 75,
   "id": "660cd4d5",
   "metadata": {},
   "outputs": [
    {
     "name": "stdout",
     "output_type": "stream",
     "text": [
      "[[    1 25000   300  1200    10]\n",
      " [    3 28000   380    46     8]\n",
      " [    4 41000   500   160    18]\n",
      " [    5 35000   420   400    12]\n",
      " [    6 27000   360    30     9]\n",
      " [    7 39000   480   700    18]\n",
      " [    8 30000   400   250    14]\n",
      " [    9 45000   420   800    20]\n",
      " [   10 23000   410    45     9]]\n"
     ]
    }
   ],
   "source": [
    "#Q14.3: Find customers who have been active for more than 5 years\n",
    "long_active = banking_data[banking_data[:,4] > 5]\n",
    "print(long_active)"
   ]
  },
  {
   "cell_type": "code",
   "execution_count": null,
   "id": "45d23ba6",
   "metadata": {},
   "outputs": [],
   "source": []
  }
 ],
 "metadata": {
  "kernelspec": {
   "display_name": "Python 3",
   "language": "python",
   "name": "python3"
  },
  "language_info": {
   "codemirror_mode": {
    "name": "ipython",
    "version": 3
   },
   "file_extension": ".py",
   "mimetype": "text/x-python",
   "name": "python",
   "nbconvert_exporter": "python",
   "pygments_lexer": "ipython3",
   "version": "3.13.5"
  }
 },
 "nbformat": 4,
 "nbformat_minor": 5
}
