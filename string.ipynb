{
 "cells": [
  {
   "cell_type": "code",
   "execution_count": 1,
   "id": "6a9ad4ee",
   "metadata": {},
   "outputs": [
    {
     "name": "stdout",
     "output_type": "stream",
     "text": [
      "gnimmargorp nohtyp\n"
     ]
    }
   ],
   "source": [
    "# Question 1: Reverse the string \"Python Programming\"\n",
    "string = \"python programming\"\n",
    "reverse_string = string[::-1]\n",
    "print(reverse_string)"
   ]
  },
  {
   "cell_type": "code",
   "execution_count": 2,
   "id": "f6c5634f",
   "metadata": {},
   "outputs": [
    {
     "name": "stdout",
     "output_type": "stream",
     "text": [
      "palindrome\n"
     ]
    }
   ],
   "source": [
    "# Question 2: Check if \"racecar\" is a palindrome\n",
    "string = \"racecar\" \n",
    "if string[:-1]:\n",
    "   print(\"palindrome\")\n",
    "else:\n",
    "  print(\"not palindrome\")"
   ]
  },
  {
   "cell_type": "code",
   "execution_count": 3,
   "id": "fc848e3d",
   "metadata": {},
   "outputs": [
    {
     "name": "stdout",
     "output_type": "stream",
     "text": [
      "number of words 6\n"
     ]
    }
   ],
   "source": [
    "# Question 3: Count the number of words in \"Python is a great programming language\"\n",
    "string = \"python is a great programming language\"\n",
    "word = len(string.split())\n",
    "print(\"number of words\", word)"
   ]
  },
  {
   "cell_type": "code",
   "execution_count": 4,
   "id": "d1a3c521",
   "metadata": {},
   "outputs": [
    {
     "data": {
      "text/plain": [
       "'Hello World'"
      ]
     },
     "execution_count": 4,
     "metadata": {},
     "output_type": "execute_result"
    }
   ],
   "source": [
    "# Question 4: Convert \"hello world\" to title case\n",
    "string = \"Hello world\"\n",
    "string.title()"
   ]
  },
  {
   "cell_type": "code",
   "execution_count": 5,
   "id": "098128aa",
   "metadata": {},
   "outputs": [
    {
     "name": "stdout",
     "output_type": "stream",
     "text": [
      "12\n"
     ]
    }
   ],
   "source": [
    "# Question 5: Find the length of string \"Data Science\"\n",
    "string = \"Data Science\"\n",
    "print(len(string))"
   ]
  },
  {
   "cell_type": "code",
   "execution_count": 6,
   "id": "cbe8a51f",
   "metadata": {},
   "outputs": [
    {
     "data": {
      "text/plain": [
       "'machine_learning'"
      ]
     },
     "execution_count": 6,
     "metadata": {},
     "output_type": "execute_result"
    }
   ],
   "source": [
    "# Question 6: Replace all spaces with underscores in \"Machine Learning\"\n",
    "string = \"machine learning\"\n",
    "string.replace(\" \", \"_\")"
   ]
  },
  {
   "cell_type": "code",
   "execution_count": 7,
   "id": "4ace8889",
   "metadata": {},
   "outputs": [
    {
     "data": {
      "text/plain": [
       "'Artifi'"
      ]
     },
     "execution_count": 7,
     "metadata": {},
     "output_type": "execute_result"
    }
   ],
   "source": [
    "# Question 8: Extract the first 5 characters from \"Artificial Intelligence\"\n",
    "string =\"Artificial intelligence\"\n",
    "string[0:6]"
   ]
  },
  {
   "cell_type": "code",
   "execution_count": 8,
   "id": "ece786db",
   "metadata": {},
   "outputs": [
    {
     "data": {
      "text/plain": [
       "'uppercase'"
      ]
     },
     "execution_count": 8,
     "metadata": {},
     "output_type": "execute_result"
    }
   ],
   "source": [
    "# Question 9: Convert \"UPPERCASE\" to lowercase\n",
    "string = \"UPPERCASE\"\n",
    "string.lower()\n"
   ]
  },
  {
   "cell_type": "code",
   "execution_count": 9,
   "id": "98b07b1f",
   "metadata": {},
   "outputs": [
    {
     "name": "stdout",
     "output_type": "stream",
     "text": [
      "Cmptr Scnc\n"
     ]
    }
   ],
   "source": [
    "# Question 10: Remove all vowels from \"Computer Science\"\n",
    "string = \"Computer Science\"\n",
    "new_string =\"\"\n",
    "for char in string:\n",
    "   if char not in \"aeiouAEIOU\":\n",
    "      new_string+=char\n",
    "print(new_string)"
   ]
  },
  {
   "cell_type": "code",
   "execution_count": 10,
   "id": "733ffc9c",
   "metadata": {},
   "outputs": [
    {
     "name": "stdout",
     "output_type": "stream",
     "text": [
      "Cmptr Scnc\n"
     ]
    }
   ],
   "source": [
    "# Question 10: Remove all vowels from \"Computer Science\"\n",
    "string = \"Computer Science\"\n",
    "new_string =\"\"\n",
    "for char in string:\n",
    "   if char not in \"aeiouAEIOU\":\n",
    "      new_string+=char\n",
    "print(new_string)"
   ]
  },
  {
   "cell_type": "code",
   "execution_count": 11,
   "id": "38826e13",
   "metadata": {},
   "outputs": [
    {
     "name": "stdout",
     "output_type": "stream",
     "text": [
      "anagrams\n"
     ]
    }
   ],
   "source": [
    "# Question 12: Check if two strings are anagrams: \"listen\" and \"silent\"\n",
    "a = \"listen\"\n",
    "b = \"silent\"\n",
    "if sorted(a) == sorted(b):\n",
    "   print(\"anagrams\")\n",
    "else:\n",
    "    print(\"not anagrams\")"
   ]
  },
  {
   "cell_type": "code",
   "execution_count": 12,
   "id": "4e2c1f25",
   "metadata": {},
   "outputs": [
    {
     "data": {
      "text/plain": [
       "'Python Programming Language'"
      ]
     },
     "execution_count": 12,
     "metadata": {},
     "output_type": "execute_result"
    }
   ],
   "source": [
    "# Question 13: Capitalize first letter of each word in \"python programming language\"\n",
    "string = \"python programming language\"\n",
    "string.title()"
   ]
  },
  {
   "cell_type": "code",
   "execution_count": 13,
   "id": "13f165e4",
   "metadata": {},
   "outputs": [
    {
     "data": {
      "text/plain": [
       "8"
      ]
     },
     "execution_count": 13,
     "metadata": {},
     "output_type": "execute_result"
    }
   ],
   "source": [
    "# Question 14: Count consonants in \"Hello World\"\n",
    "string = \"Hello World\"\n",
    "new_string =\"\"\n",
    "for char in string:\n",
    "   if char not in \"aeiouAEIOU\":\n",
    "      new_string+=char\n",
    "len(new_string) "
   ]
  },
  {
   "cell_type": "code",
   "execution_count": 14,
   "id": "007a9c02",
   "metadata": {},
   "outputs": [
    {
     "data": {
      "text/plain": [
       "'programming'"
      ]
     },
     "execution_count": 14,
     "metadata": {},
     "output_type": "execute_result"
    }
   ],
   "source": [
    "# Question 15: Find the longest word in \"Python is a programming language\"\n",
    "string = \"Python is a programming language\"\n",
    "max(string.split(), key = len)"
   ]
  }
 ],
 "metadata": {
  "kernelspec": {
   "display_name": "Python 3",
   "language": "python",
   "name": "python3"
  },
  "language_info": {
   "codemirror_mode": {
    "name": "ipython",
    "version": 3
   },
   "file_extension": ".py",
   "mimetype": "text/x-python",
   "name": "python",
   "nbconvert_exporter": "python",
   "pygments_lexer": "ipython3",
   "version": "3.13.5"
  }
 },
 "nbformat": 4,
 "nbformat_minor": 5
}
