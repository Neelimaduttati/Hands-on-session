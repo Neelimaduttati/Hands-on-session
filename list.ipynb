{
 "cells": [
  {
   "cell_type": "code",
   "execution_count": 1,
   "id": "968745d7",
   "metadata": {},
   "outputs": [
    {
     "name": "stdout",
     "output_type": "stream",
     "text": [
      "[1, 4, 9, 16, 25, 36, 49, 64, 81, 100]\n"
     ]
    }
   ],
   "source": [
    "# Question 1: Create a list of first 10 square numbers\n",
    "square = [i ** 2 for i in range(1, 11)]\n",
    "print(square)"
   ]
  },
  {
   "cell_type": "code",
   "execution_count": 2,
   "id": "7b9de6f2",
   "metadata": {},
   "outputs": [
    {
     "name": "stdout",
     "output_type": "stream",
     "text": [
      "30\n"
     ]
    }
   ],
   "source": [
    "# Question 2: Find the sum of all even numbers in [1, 2, 3, 4, 5, 6, 7, 8, 9, 10]\n",
    "a = [1, 2, 3, 4, 5, 6, 7, 8, 9, 10]\n",
    "result= sum(i for i in a if i % 2 == 0)\n",
    "print(result)"
   ]
  },
  {
   "cell_type": "code",
   "execution_count": 3,
   "id": "bc6ce08e",
   "metadata": {},
   "outputs": [
    {
     "name": "stdout",
     "output_type": "stream",
     "text": [
      "[1, 2, 3, 4, 5, 6, 7]\n"
     ]
    }
   ],
   "source": [
    "# Question 3: Remove duplicates from [1, 2, 2, 3, 4, 4, 5, 6, 6, 7]\n",
    "s = [1, 2, 2, 3, 4, 4, 5, 6, 6, 7]\n",
    "p = list(set(s))\n",
    "print(p)"
   ]
  },
  {
   "cell_type": "code",
   "execution_count": 1,
   "id": "0bc4e190",
   "metadata": {},
   "outputs": [
    {
     "name": "stdout",
     "output_type": "stream",
     "text": [
      "[90, 64, 34, 25, 22, 12, 11]\n"
     ]
    }
   ],
   "source": [
    "# Question 4: Sort the list [64, 34, 25, 12, 22, 11, 90] in descending order\n",
    "des = [64, 34, 25, 12, 22, 11, 90]\n",
    "des.sort(reverse = True)\n",
    "print(des)"
   ]
  },
  {
   "cell_type": "code",
   "execution_count": 2,
   "id": "a941298c",
   "metadata": {},
   "outputs": [
    {
     "name": "stdout",
     "output_type": "stream",
     "text": [
      "48.0\n"
     ]
    }
   ],
   "source": [
    "# Question 5: Find the average of numbers in [15, 23, 31, 42, 56, 78, 91]\n",
    "num = [15, 23, 31, 42, 56, 78, 91]\n",
    "average = sum(num) / len(num)\n",
    "print(average)"
   ]
  },
  {
   "cell_type": "code",
   "execution_count": 3,
   "id": "ba22323d",
   "metadata": {},
   "outputs": [
    {
     "data": {
      "text/plain": [
       "[0, 1, 1, 2, 3, 5, 8, 13, 21, 34, 55, 89, 144, 233, 377]"
      ]
     },
     "execution_count": 3,
     "metadata": {},
     "output_type": "execute_result"
    }
   ],
   "source": [
    "#Question 6: Create a list of first 15 Fibonacci numbers\n",
    "fibo = [0,1]\n",
    "\n",
    "for i in range(2,15):\n",
    "    num = fibo[-1] + fibo[-2]\n",
    "    fibo.append(num)\n",
    "fibo"
   ]
  },
  {
   "cell_type": "code",
   "execution_count": 5,
   "id": "31c7edca",
   "metadata": {},
   "outputs": [
    {
     "name": "stdout",
     "output_type": "stream",
     "text": [
      "78\n"
     ]
    }
   ],
   "source": [
    "#Question 7: Find the second largest number in [45, 67, 23, 89, 12, 34, 78]\n",
    "c = [45, 67, 23, 89, 12, 34, 78]\n",
    "p = sorted(c,reverse = True)\n",
    "res = p[1]\n",
    "print(res)"
   ]
  },
  {
   "cell_type": "code",
   "execution_count": 6,
   "id": "a0b94295",
   "metadata": {},
   "outputs": [
    {
     "data": {
      "text/plain": [
       "[10, 9, 8, 7, 6, 5, 4, 3, 2, 1]"
      ]
     },
     "execution_count": 6,
     "metadata": {},
     "output_type": "execute_result"
    }
   ],
   "source": [
    "# Question 8: Reverse the list [1, 2, 3, 4, 5, 6, 7, 8, 9, 10]\n",
    "li = [1, 2, 3, 4, 5, 6, 7, 8, 9, 10]\n",
    "li[::-1]\n"
   ]
  },
  {
   "cell_type": "code",
   "execution_count": 7,
   "id": "0ee4ddd7",
   "metadata": {},
   "outputs": [
    {
     "data": {
      "text/plain": [
       "4"
      ]
     },
     "execution_count": 7,
     "metadata": {},
     "output_type": "execute_result"
    }
   ],
   "source": [
    "# Question 9: Count how many times 5 appears in [1, 5, 2, 5, 3, 5, 4, 5, 6]\n",
    "a = [1, 5, 2, 5, 3, 5, 4, 5, 6]\n",
    "res = a.count(5)\n",
    "res"
   ]
  },
  {
   "cell_type": "code",
   "execution_count": 8,
   "id": "52b8664c",
   "metadata": {},
   "outputs": [
    {
     "name": "stdout",
     "output_type": "stream",
     "text": [
      "[2, 3, 5, 7, 11, 13, 17, 19, 23, 29, 31, 37, 41, 43, 47]\n"
     ]
    }
   ],
   "source": [
    "# Question 10: Create a list of prime numbers between 1 and 50\n",
    "primes = []\n",
    "\n",
    "for num in range(2, 51):\n",
    "    for i in range(2, num):\n",
    "        if num % i == 0:\n",
    "            break\n",
    "    else:\n",
    "        primes.append(num)\n",
    "\n",
    "print(primes)"
   ]
  },
  {
   "cell_type": "code",
   "execution_count": 9,
   "id": "54bcf004",
   "metadata": {},
   "outputs": [
    {
     "name": "stdout",
     "output_type": "stream",
     "text": [
      "[1, 2, 3, 4, 5, 6, 7, 8, 9]\n"
     ]
    }
   ],
   "source": [
    "# Question 11: Flatten nested list [[1, 2, 3], [4, 5, 6], [7, 8, 9]]\n",
    "list=[[1, 2, 3], [4, 5, 6], [7, 8, 9]]\n",
    "flat_list=[]\n",
    "for sublist in list:\n",
    "    for item in sublist:\n",
    "        flat_list.append(item)\n",
    "print(flat_list)"
   ]
  },
  {
   "cell_type": "code",
   "execution_count": null,
   "id": "adff63d6",
   "metadata": {},
   "outputs": [
    {
     "ename": "TypeError",
     "evalue": "'list' object is not callable",
     "output_type": "error",
     "traceback": [
      "\u001b[31m---------------------------------------------------------------------------\u001b[39m",
      "\u001b[31mTypeError\u001b[39m                                 Traceback (most recent call last)",
      "\u001b[36mCell\u001b[39m\u001b[36m \u001b[39m\u001b[32mIn[13]\u001b[39m\u001b[32m, line 4\u001b[39m\n\u001b[32m      2\u001b[39m list1=[\u001b[32m1\u001b[39m, \u001b[32m2\u001b[39m, \u001b[32m3\u001b[39m, \u001b[32m4\u001b[39m, \u001b[32m5\u001b[39m]\n\u001b[32m      3\u001b[39m list2=[\u001b[32m4\u001b[39m, \u001b[32m5\u001b[39m, \u001b[32m6\u001b[39m, \u001b[32m7\u001b[39m, \u001b[32m8\u001b[39m]\n\u001b[32m----> \u001b[39m\u001b[32m4\u001b[39m common=\u001b[38;5;28;43mlist\u001b[39;49m\u001b[43m(\u001b[49m\u001b[38;5;28;43mset\u001b[39;49m\u001b[43m(\u001b[49m\u001b[43mlist1\u001b[49m\u001b[43m)\u001b[49m\u001b[43m&\u001b[49m\u001b[38;5;28;43mset\u001b[39;49m\u001b[43m(\u001b[49m\u001b[43mlist2\u001b[49m\u001b[43m)\u001b[49m\u001b[43m)\u001b[49m\n\u001b[32m      5\u001b[39m \u001b[38;5;28mprint\u001b[39m(common)\n",
      "\u001b[31mTypeError\u001b[39m: 'list' object is not callable"
     ]
    }
   ],
   "source": [
    "# Question 12: Find common elements between [1, 2, 3, 4, 5] and [4, 5, 6, 7, 8]\n"
   ]
  },
  {
   "cell_type": "code",
   "execution_count": null,
   "id": "cc20a110",
   "metadata": {},
   "outputs": [],
   "source": []
  },
  {
   "cell_type": "code",
   "execution_count": null,
   "id": "37ed457b",
   "metadata": {},
   "outputs": [],
   "source": []
  }
 ],
 "metadata": {
  "kernelspec": {
   "display_name": "Python 3",
   "language": "python",
   "name": "python3"
  },
  "language_info": {
   "codemirror_mode": {
    "name": "ipython",
    "version": 3
   },
   "file_extension": ".py",
   "mimetype": "text/x-python",
   "name": "python",
   "nbconvert_exporter": "python",
   "pygments_lexer": "ipython3",
   "version": "3.13.5"
  }
 },
 "nbformat": 4,
 "nbformat_minor": 5
}
